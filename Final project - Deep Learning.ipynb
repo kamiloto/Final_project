{
 "cells": [
  {
   "cell_type": "markdown",
   "metadata": {},
   "source": [
    "# Universidad de los Andes\n",
    "## Maestría en Inteligencia Analítica para la Toma de Decisiones\n",
    "## Final Project - Deep Learning and Neural Networks\n",
    "\n",
    "### Camilo Torres Ovalle, Código 201743423\n",
    "### Wilfredo Vega Buelvas, Código 201723430"
   ]
  },
  {
   "cell_type": "markdown",
   "metadata": {},
   "source": [
    "#### Below is the procedure and the code used to:\n",
    "Create a solution using both images and text with a Machine Learning algorithm\n",
    "\n",
    "Create a solution using both images and text with a Deep Learning algorithm (CNN, transfer learning, RNN)"
   ]
  },
  {
   "cell_type": "code",
   "execution_count": 241,
   "metadata": {},
   "outputs": [],
   "source": [
    "import pandas as pd\n",
    "import os\n",
    "import numpy as np\n",
    "from sklearn.preprocessing import MultiLabelBinarizer\n",
    "from sklearn.multiclass import OneVsRestClassifier\n",
    "from sklearn.ensemble import RandomForestRegressor, RandomForestClassifier\n",
    "from sklearn.metrics import r2_score, roc_auc_score\n",
    "from sklearn.model_selection import train_test_split\n",
    "from sklearn.decomposition import PCA\n",
    "import matplotlib.pyplot as plt\n",
    "from skimage import io\n",
    "from tqdm import tqdm\n",
    "import os\n",
    "from sklearn.feature_extraction.text import CountVectorizer, TfidfVectorizer\n",
    "%matplotlib inline"
   ]
  },
  {
   "cell_type": "markdown",
   "metadata": {},
   "source": [
    "# Read Data"
   ]
  },
  {
   "cell_type": "code",
   "execution_count": 2,
   "metadata": {},
   "outputs": [],
   "source": [
    "path = '../finalProject/'"
   ]
  },
  {
   "cell_type": "code",
   "execution_count": 3,
   "metadata": {},
   "outputs": [],
   "source": [
    "dataTraining = pd.read_csv(os.path.join(path, 'data', 'dataTraining.csv'), encoding='UTF-8', index_col=0)\n",
    "dataTesting = pd.read_csv(os.path.join(path, 'data', 'dataTesting.csv'), encoding='UTF-8', index_col=0)"
   ]
  },
  {
   "cell_type": "code",
   "execution_count": 4,
   "metadata": {},
   "outputs": [
    {
     "data": {
      "text/html": [
       "<div>\n",
       "<style scoped>\n",
       "    .dataframe tbody tr th:only-of-type {\n",
       "        vertical-align: middle;\n",
       "    }\n",
       "\n",
       "    .dataframe tbody tr th {\n",
       "        vertical-align: top;\n",
       "    }\n",
       "\n",
       "    .dataframe thead th {\n",
       "        text-align: right;\n",
       "    }\n",
       "</style>\n",
       "<table border=\"1\" class=\"dataframe\">\n",
       "  <thead>\n",
       "    <tr style=\"text-align: right;\">\n",
       "      <th></th>\n",
       "      <th>year</th>\n",
       "      <th>title</th>\n",
       "      <th>plot</th>\n",
       "      <th>genres</th>\n",
       "      <th>rating</th>\n",
       "    </tr>\n",
       "  </thead>\n",
       "  <tbody>\n",
       "    <tr>\n",
       "      <th>3107</th>\n",
       "      <td>2003</td>\n",
       "      <td>Most</td>\n",
       "      <td>most is the story of a single father who takes...</td>\n",
       "      <td>['Short', 'Drama']</td>\n",
       "      <td>8.0</td>\n",
       "    </tr>\n",
       "    <tr>\n",
       "      <th>900</th>\n",
       "      <td>2008</td>\n",
       "      <td>How to Be a Serial Killer</td>\n",
       "      <td>a serial killer decides to teach the secrets o...</td>\n",
       "      <td>['Comedy', 'Crime', 'Horror']</td>\n",
       "      <td>5.6</td>\n",
       "    </tr>\n",
       "    <tr>\n",
       "      <th>6724</th>\n",
       "      <td>1941</td>\n",
       "      <td>A Woman's Face</td>\n",
       "      <td>in sweden ,  a female blackmailer with a disfi...</td>\n",
       "      <td>['Drama', 'Film-Noir', 'Thriller']</td>\n",
       "      <td>7.2</td>\n",
       "    </tr>\n",
       "    <tr>\n",
       "      <th>4704</th>\n",
       "      <td>1954</td>\n",
       "      <td>Executive Suite</td>\n",
       "      <td>in a friday afternoon in new york ,  the presi...</td>\n",
       "      <td>['Drama']</td>\n",
       "      <td>7.4</td>\n",
       "    </tr>\n",
       "    <tr>\n",
       "      <th>2582</th>\n",
       "      <td>1990</td>\n",
       "      <td>Narrow Margin</td>\n",
       "      <td>in los angeles ,  the editor of a publishing h...</td>\n",
       "      <td>['Action', 'Crime', 'Thriller']</td>\n",
       "      <td>6.6</td>\n",
       "    </tr>\n",
       "  </tbody>\n",
       "</table>\n",
       "</div>"
      ],
      "text/plain": [
       "      year                      title  \\\n",
       "3107  2003                       Most   \n",
       "900   2008  How to Be a Serial Killer   \n",
       "6724  1941             A Woman's Face   \n",
       "4704  1954            Executive Suite   \n",
       "2582  1990              Narrow Margin   \n",
       "\n",
       "                                                   plot  \\\n",
       "3107  most is the story of a single father who takes...   \n",
       "900   a serial killer decides to teach the secrets o...   \n",
       "6724  in sweden ,  a female blackmailer with a disfi...   \n",
       "4704  in a friday afternoon in new york ,  the presi...   \n",
       "2582  in los angeles ,  the editor of a publishing h...   \n",
       "\n",
       "                                  genres  rating  \n",
       "3107                  ['Short', 'Drama']     8.0  \n",
       "900        ['Comedy', 'Crime', 'Horror']     5.6  \n",
       "6724  ['Drama', 'Film-Noir', 'Thriller']     7.2  \n",
       "4704                           ['Drama']     7.4  \n",
       "2582     ['Action', 'Crime', 'Thriller']     6.6  "
      ]
     },
     "execution_count": 4,
     "metadata": {},
     "output_type": "execute_result"
    }
   ],
   "source": [
    "dataTraining.head()"
   ]
  },
  {
   "cell_type": "code",
   "execution_count": 5,
   "metadata": {
    "scrolled": true
   },
   "outputs": [
    {
     "data": {
      "text/html": [
       "<div>\n",
       "<style scoped>\n",
       "    .dataframe tbody tr th:only-of-type {\n",
       "        vertical-align: middle;\n",
       "    }\n",
       "\n",
       "    .dataframe tbody tr th {\n",
       "        vertical-align: top;\n",
       "    }\n",
       "\n",
       "    .dataframe thead th {\n",
       "        text-align: right;\n",
       "    }\n",
       "</style>\n",
       "<table border=\"1\" class=\"dataframe\">\n",
       "  <thead>\n",
       "    <tr style=\"text-align: right;\">\n",
       "      <th></th>\n",
       "      <th>year</th>\n",
       "      <th>title</th>\n",
       "      <th>plot</th>\n",
       "    </tr>\n",
       "  </thead>\n",
       "  <tbody>\n",
       "    <tr>\n",
       "      <th>1</th>\n",
       "      <td>1999</td>\n",
       "      <td>Message in a Bottle</td>\n",
       "      <td>who meets by fate ,  shall be sealed by fate ....</td>\n",
       "    </tr>\n",
       "    <tr>\n",
       "      <th>4</th>\n",
       "      <td>1978</td>\n",
       "      <td>Midnight Express</td>\n",
       "      <td>the true story of billy hayes ,  an american c...</td>\n",
       "    </tr>\n",
       "    <tr>\n",
       "      <th>5</th>\n",
       "      <td>1996</td>\n",
       "      <td>Primal Fear</td>\n",
       "      <td>martin vail left the chicago da ' s office to ...</td>\n",
       "    </tr>\n",
       "    <tr>\n",
       "      <th>6</th>\n",
       "      <td>1950</td>\n",
       "      <td>Crisis</td>\n",
       "      <td>husband and wife americans dr .  eugene and mr...</td>\n",
       "    </tr>\n",
       "    <tr>\n",
       "      <th>7</th>\n",
       "      <td>1959</td>\n",
       "      <td>The Tingler</td>\n",
       "      <td>the coroner and scientist dr .  warren chapin ...</td>\n",
       "    </tr>\n",
       "  </tbody>\n",
       "</table>\n",
       "</div>"
      ],
      "text/plain": [
       "   year                title  \\\n",
       "1  1999  Message in a Bottle   \n",
       "4  1978     Midnight Express   \n",
       "5  1996          Primal Fear   \n",
       "6  1950               Crisis   \n",
       "7  1959          The Tingler   \n",
       "\n",
       "                                                plot  \n",
       "1  who meets by fate ,  shall be sealed by fate ....  \n",
       "4  the true story of billy hayes ,  an american c...  \n",
       "5  martin vail left the chicago da ' s office to ...  \n",
       "6  husband and wife americans dr .  eugene and mr...  \n",
       "7  the coroner and scientist dr .  warren chapin ...  "
      ]
     },
     "execution_count": 5,
     "metadata": {},
     "output_type": "execute_result"
    }
   ],
   "source": [
    "dataTesting.head()"
   ]
  },
  {
   "cell_type": "code",
   "execution_count": 6,
   "metadata": {
    "collapsed": true
   },
   "outputs": [
    {
     "data": {
      "text/plain": [
       "['Drama']                                                            429\n",
       "['Comedy']                                                           368\n",
       "['Comedy', 'Drama', 'Romance']                                       306\n",
       "['Comedy', 'Romance']                                                291\n",
       "['Comedy', 'Drama']                                                  287\n",
       "['Drama', 'Romance']                                                 282\n",
       "['Documentary']                                                      154\n",
       "['Crime', 'Drama', 'Thriller']                                       125\n",
       "['Drama', 'Thriller']                                                115\n",
       "['Horror']                                                           115\n",
       "['Horror', 'Thriller']                                               108\n",
       "['Action', 'Crime', 'Drama', 'Thriller']                             102\n",
       "['Crime', 'Drama']                                                    88\n",
       "['Comedy', 'Crime']                                                   83\n",
       "['Action', 'Crime', 'Thriller']                                       83\n",
       "['Crime', 'Drama', 'Mystery', 'Thriller']                             81\n",
       "['Horror', 'Mystery', 'Thriller']                                     57\n",
       "['Biography', 'Drama']                                                51\n",
       "['Western']                                                           47\n",
       "['Drama', 'War']                                                      44\n",
       "['Horror', 'Sci-Fi']                                                  44\n",
       "['Action', 'Adventure', 'Sci-Fi']                                     43\n",
       "['Comedy', 'Musical', 'Romance']                                      42\n",
       "['Documentary', 'Music']                                              40\n",
       "['Action', 'Thriller']                                                40\n",
       "['Drama', 'Horror', 'Thriller']                                       39\n",
       "['Drama', 'Mystery', 'Thriller']                                      39\n",
       "['Comedy', 'Crime', 'Drama']                                          37\n",
       "['Crime', 'Drama', 'Film-Noir', 'Thriller']                           36\n",
       "['Comedy', 'Fantasy']                                                 35\n",
       "                                                                    ... \n",
       "['Drama', 'Fantasy', 'Mystery', 'Romance', 'Thriller']                 1\n",
       "['Action', 'Fantasy', 'Thriller', 'Crime']                             1\n",
       "['Drama', 'Fantasy', 'Music', 'Romance']                               1\n",
       "['Action', 'Adventure', 'Crime', 'Horror']                             1\n",
       "['Comedy', 'Drama', 'Family', 'Music', 'Musical', 'Romance']           1\n",
       "['Adventure', 'Animation', 'Family', 'Comedy', 'Fantasy']              1\n",
       "['Comedy', 'Music', 'Sci-Fi']                                          1\n",
       "['Adventure', 'Biography', 'Drama', 'War']                             1\n",
       "['Action', 'Adventure', 'Comedy', 'Romance', 'Sci-Fi']                 1\n",
       "['Action', 'Comedy', 'Drama', 'War']                                   1\n",
       "['Documentary', 'Biography', 'Crime', 'Sport']                         1\n",
       "['Comedy', 'Crime', 'Drama', 'Sci-Fi']                                 1\n",
       "['Action', 'Adventure', 'Comedy', 'Thriller', 'Western']               1\n",
       "['Action', 'Sci-Fi', 'War']                                            1\n",
       "['Action', 'Drama', 'Sci-Fi']                                          1\n",
       "['Short', 'Comedy', 'Western']                                         1\n",
       "['Action', 'Drama', 'Adventure', 'Romance']                            1\n",
       "['Family', 'Comedy', 'Drama']                                          1\n",
       "['History', 'Romance', 'Western']                                      1\n",
       "['Fantasy', 'Action', 'Adventure', 'Sci-Fi']                           1\n",
       "['Drama', 'Fantasy', 'Western']                                        1\n",
       "['Action', 'Comedy', 'Drama', 'Horror']                                1\n",
       "['Animation', 'Drama', 'Family', 'Fantasy', 'Musical', 'Romance']      1\n",
       "['Adventure', 'Biography', 'Comedy', 'Drama', 'Romance']               1\n",
       "['Action', 'Western', 'Adventure', 'Romance']                          1\n",
       "['Biography', 'Musical', 'Romance', 'War']                             1\n",
       "['Drama', 'Crime', 'Thriller']                                         1\n",
       "['Western', 'Crime']                                                   1\n",
       "['Animation', 'Family', 'Fantasy', 'Mystery']                          1\n",
       "['Action', 'Drama', 'Sport', 'Western']                                1\n",
       "Name: genres, Length: 1336, dtype: int64"
      ]
     },
     "execution_count": 6,
     "metadata": {},
     "output_type": "execute_result"
    }
   ],
   "source": [
    "dataTraining['genres'].value_counts()"
   ]
  },
  {
   "cell_type": "markdown",
   "metadata": {},
   "source": [
    "# Read Images"
   ]
  },
  {
   "cell_type": "code",
   "execution_count": 7,
   "metadata": {},
   "outputs": [],
   "source": [
    "image = io.imread(os.path.join(path, 'images_resize_gray', str(dataTraining.index[0]) + '_resize_gray.jpeg'))"
   ]
  },
  {
   "cell_type": "code",
   "execution_count": 8,
   "metadata": {},
   "outputs": [
    {
     "data": {
      "text/plain": [
       "array([[ 3,  3,  3, ..., 57, 55, 51],\n",
       "       [ 3,  3,  3, ..., 99, 98, 95],\n",
       "       [ 3,  3,  3, ..., 97, 96, 94],\n",
       "       ...,\n",
       "       [ 0,  0,  0, ...,  0,  0,  0],\n",
       "       [ 0,  0,  0, ...,  0,  0,  0],\n",
       "       [ 0,  0,  0, ...,  0,  0,  0]], dtype=uint8)"
      ]
     },
     "execution_count": 8,
     "metadata": {},
     "output_type": "execute_result"
    }
   ],
   "source": [
    "image"
   ]
  },
  {
   "cell_type": "code",
   "execution_count": 9,
   "metadata": {},
   "outputs": [
    {
     "data": {
      "text/plain": [
       "<matplotlib.image.AxesImage at 0x1e52c976978>"
      ]
     },
     "execution_count": 9,
     "metadata": {},
     "output_type": "execute_result"
    },
    {
     "data": {
      "image/png": "[encoded data removed]",
      "text/plain": [
       "<matplotlib.figure.Figure at 0x1e52c7e9b00>"
      ]
     },
     "metadata": {},
     "output_type": "display_data"
    }
   ],
   "source": [
    "fig, ax = plt.subplots(nrows=1, ncols=1)\n",
    "ax.imshow(image, cmap='gray')"
   ]
  },
  {
   "cell_type": "markdown",
   "metadata": {},
   "source": [
    "## Read all images"
   ]
  },
  {
   "cell_type": "code",
   "execution_count": 10,
   "metadata": {},
   "outputs": [
    {
     "name": "stderr",
     "output_type": "stream",
     "text": [
      "100%|██████████| 7895/7895 [00:09<00:00, 835.20it/s]\n"
     ]
    }
   ],
   "source": [
    "images_training = []\n",
    "for i in tqdm(dataTraining.index):\n",
    "    images_training.append(io.imread(os.path.join(path, 'images_resize_gray', str(i) + '_resize_gray.jpeg')).flatten())"
   ]
  },
  {
   "cell_type": "code",
   "execution_count": 11,
   "metadata": {},
   "outputs": [
    {
     "data": {
      "text/plain": [
       "((7895, 40960), 7895)"
      ]
     },
     "execution_count": 11,
     "metadata": {},
     "output_type": "execute_result"
    }
   ],
   "source": [
    "images_training = np.stack(images_training)\n",
    "\n",
    "images_training.shape, dataTraining.shape[0]"
   ]
  },
  {
   "cell_type": "code",
   "execution_count": 12,
   "metadata": {},
   "outputs": [
    {
     "name": "stderr",
     "output_type": "stream",
     "text": [
      "100%|██████████| 3383/3383 [00:03<00:00, 892.04it/s]\n"
     ]
    },
    {
     "data": {
      "text/plain": [
       "((3383, 40960), 3383)"
      ]
     },
     "execution_count": 12,
     "metadata": {},
     "output_type": "execute_result"
    }
   ],
   "source": [
    "images_testing = []\n",
    "for i in tqdm(dataTesting.index):\n",
    "    images_testing.append(io.imread(os.path.join(path, 'images_resize_gray', str(i) + '_resize_gray.jpeg')).flatten())\n",
    "\n",
    "images_testing = np.stack(images_testing)\n",
    "\n",
    "images_testing.shape, dataTesting.shape[0]"
   ]
  },
  {
   "cell_type": "code",
   "execution_count": 13,
   "metadata": {},
   "outputs": [
    {
     "data": {
      "text/plain": [
       "array([[195, 192, 190, ...,  66,  72,  81],\n",
       "       [ 28,  28,  27, ...,  17,  17,  16],\n",
       "       [  0,   0,   0, ...,   3,   3,   2],\n",
       "       ...,\n",
       "       [255, 250, 249, ..., 236, 255, 255],\n",
       "       [ 86,  82,  75, ...,  29,  45,  40],\n",
       "       [ 94,  54,  60, ...,  64,  57,  95]], dtype=uint8)"
      ]
     },
     "execution_count": 13,
     "metadata": {},
     "output_type": "execute_result"
    }
   ],
   "source": [
    "images_testing"
   ]
  },
  {
   "cell_type": "markdown",
   "metadata": {},
   "source": [
    "## Apply PCA"
   ]
  },
  {
   "cell_type": "code",
   "execution_count": 14,
   "metadata": {},
   "outputs": [],
   "source": [
    "pca = PCA(n_components=32)\n",
    "images_training_pca = pca.fit_transform(images_training)"
   ]
  },
  {
   "cell_type": "code",
   "execution_count": 15,
   "metadata": {},
   "outputs": [],
   "source": [
    "images_testing_pca = pca.transform(images_testing)"
   ]
  },
  {
   "cell_type": "markdown",
   "metadata": {},
   "source": [
    "# Create y"
   ]
  },
  {
   "cell_type": "code",
   "execution_count": 16,
   "metadata": {},
   "outputs": [],
   "source": [
    "dataTraining['genres'] = dataTraining['genres'].map(lambda x: eval(x))\n",
    "le = MultiLabelBinarizer()\n",
    "y_genres = le.fit_transform(dataTraining['genres'])"
   ]
  },
  {
   "cell_type": "code",
   "execution_count": 17,
   "metadata": {},
   "outputs": [
    {
     "data": {
      "text/plain": [
       "(7895, 24)"
      ]
     },
     "execution_count": 17,
     "metadata": {},
     "output_type": "execute_result"
    }
   ],
   "source": [
    "y_genres.shape"
   ]
  },
  {
   "cell_type": "code",
   "execution_count": 56,
   "metadata": {
    "collapsed": true
   },
   "outputs": [],
   "source": [
    "X_train, X_test, y_train_genres, y_test_genres = train_test_split(images_training_pca, y_genres, test_size=0.33, random_state=42)"
   ]
  },
  {
   "cell_type": "code",
   "execution_count": 57,
   "metadata": {},
   "outputs": [
    {
     "data": {
      "text/plain": [
       "(5289, 32)"
      ]
     },
     "execution_count": 57,
     "metadata": {},
     "output_type": "execute_result"
    }
   ],
   "source": [
    "X_train.shape"
   ]
  },
  {
   "cell_type": "code",
   "execution_count": 58,
   "metadata": {},
   "outputs": [
    {
     "data": {
      "text/plain": [
       "(2606, 32)"
      ]
     },
     "execution_count": 58,
     "metadata": {},
     "output_type": "execute_result"
    }
   ],
   "source": [
    "X_test.shape"
   ]
  },
  {
   "cell_type": "code",
   "execution_count": 59,
   "metadata": {},
   "outputs": [
    {
     "data": {
      "text/plain": [
       "(5289, 24)"
      ]
     },
     "execution_count": 59,
     "metadata": {},
     "output_type": "execute_result"
    }
   ],
   "source": [
    "y_train_genres.shape"
   ]
  },
  {
   "cell_type": "code",
   "execution_count": 60,
   "metadata": {},
   "outputs": [
    {
     "data": {
      "text/plain": [
       "(2606, 24)"
      ]
     },
     "execution_count": 60,
     "metadata": {},
     "output_type": "execute_result"
    }
   ],
   "source": [
    "y_test_genres.shape"
   ]
  },
  {
   "cell_type": "markdown",
   "metadata": {},
   "source": [
    "# Train multi-class multi-label model Random Forest"
   ]
  },
  {
   "cell_type": "code",
   "execution_count": 61,
   "metadata": {
    "collapsed": true
   },
   "outputs": [],
   "source": [
    "clf = OneVsRestClassifier(RandomForestClassifier(n_jobs=1, n_estimators=200, max_depth=10, random_state=32,bootstrap=True, class_weight=\"balanced\"))"
   ]
  },
  {
   "cell_type": "code",
   "execution_count": 62,
   "metadata": {},
   "outputs": [
    {
     "data": {
      "text/plain": [
       "OneVsRestClassifier(estimator=RandomForestClassifier(bootstrap=True, class_weight='balanced',\n",
       "            criterion='gini', max_depth=10, max_features='auto',\n",
       "            max_leaf_nodes=None, min_impurity_split=1e-07,\n",
       "            min_samples_leaf=1, min_samples_split=2,\n",
       "            min_weight_fraction_leaf=0.0, n_estimators=200, n_jobs=1,\n",
       "            oob_score=False, random_state=32, verbose=0, warm_start=False),\n",
       "          n_jobs=1)"
      ]
     },
     "execution_count": 62,
     "metadata": {},
     "output_type": "execute_result"
    }
   ],
   "source": [
    "clf.fit(X_train, y_train_genres)"
   ]
  },
  {
   "cell_type": "code",
   "execution_count": 63,
   "metadata": {
    "collapsed": true
   },
   "outputs": [],
   "source": [
    "y_pred_genres = clf.predict_proba(X_test)"
   ]
  },
  {
   "cell_type": "code",
   "execution_count": 64,
   "metadata": {},
   "outputs": [
    {
     "data": {
      "text/plain": [
       "0.610802775240662"
      ]
     },
     "execution_count": 64,
     "metadata": {},
     "output_type": "execute_result"
    }
   ],
   "source": [
    "roc_auc_score(y_test_genres, y_pred_genres, average='macro')"
   ]
  },
  {
   "cell_type": "markdown",
   "metadata": {},
   "source": [
    "# Apply models to test"
   ]
  },
  {
   "cell_type": "code",
   "execution_count": 24,
   "metadata": {
    "collapsed": true
   },
   "outputs": [],
   "source": [
    "cols = ['p_Action', 'p_Adventure', 'p_Animation', 'p_Biography', 'p_Comedy', 'p_Crime', 'p_Documentary', 'p_Drama', 'p_Family',\n",
    "        'p_Fantasy', 'p_Film-Noir', 'p_History', 'p_Horror', 'p_Music', 'p_Musical', 'p_Mystery', 'p_News', 'p_Romance',\n",
    "        'p_Sci-Fi', 'p_Short', 'p_Sport', 'p_Thriller', 'p_War', 'p_Western']\n",
    "\n",
    "y_pred_test_genres = clf.predict_proba(images_testing_pca)\n",
    "\n",
    "pd.DataFrame(y_pred_test_genres, index=dataTesting.index, columns=cols).to_csv('pred_genres_img_RF.csv', index_label='ID')"
   ]
  },
  {
   "cell_type": "markdown",
   "metadata": {},
   "source": [
    "## preprocessing before the build the models"
   ]
  },
  {
   "cell_type": "code",
   "execution_count": 20,
   "metadata": {
    "collapsed": true
   },
   "outputs": [
    {
     "name": "stderr",
     "output_type": "stream",
     "text": [
      "Using TensorFlow backend.\n"
     ]
    },
    {
     "name": "stdout",
     "output_type": "stream",
     "text": [
      "Downloading data from https://github.com/fchollet/deep-learning-models/releases/download/v0.1/vgg16_weights_tf_dim_ordering_tf_kernels_notop.h5\n",
      "58892288/58889256 [==============================] - ETA: 10:0 - ETA: 6:2 - ETA: 4: - ETA: 4: - ETA: 3: - ETA: 3: - ETA: 3: - ETA: 2: - ETA: 2: - ETA: 2: - ETA: 2: - ETA: 1: - ETA: 1: - ETA: 1: - ETA: 1: - ETA: 1: - ETA: 1: - ETA: 1: - ETA: 1: - ETA: 1: - ETA: 1: - ETA: 1: - ETA: 1: - ETA: 1: - ETA: 1: - ETA: 59s - ETA: 58 - ETA: 56 - ETA: 54 - ETA: 52 - ETA: 52 - ETA: 50 - ETA: 48 - ETA: 46 - ETA: 46 - ETA: 45 - ETA: 45 - ETA: 43 - ETA: 43 - ETA: 42 - ETA: 42 - ETA: 41 - ETA: 40 - ETA: 39 - ETA: 38 - ETA: 37 - ETA: 36 - ETA: 34 - ETA: 34 - ETA: 33 - ETA: 33 - ETA: 32 - ETA: 32 - ETA: 31 - ETA: 31 - ETA: 30 - ETA: 29 - ETA: 29 - ETA: 28 - ETA: 27 - ETA: 27 - ETA: 26 - ETA: 26 - ETA: 25 - ETA: 25 - ETA: 24 - ETA: 24 - ETA: 24 - ETA: 24 - ETA: 23 - ETA: 23 - ETA: 23 - ETA: 23 - ETA: 22 - ETA: 22 - ETA: 22 - ETA: 22 - ETA: 22 - ETA: 21 - ETA: 21 - ETA: 21 - ETA: 21 - ETA: 21 - ETA: 21 - ETA: 21 - ETA: 20 - ETA: 20 - ETA: 20 - ETA: 20 - ETA: 20 - ETA: 20 - ETA: 20 - ETA: 20 - ETA: 20 - ETA: 20 - ETA: 20 - ETA: 20 - ETA: 20 - ETA: 20 - ETA: 19 - ETA: 20 - ETA: 19 - ETA: 19 - ETA: 19 - ETA: 19 - ETA: 19 - ETA: 19 - ETA: 19 - ETA: 19 - ETA: 19 - ETA: 18 - ETA: 18 - ETA: 18 - ETA: 18 - ETA: 18 - ETA: 18 - ETA: 18 - ETA: 18 - ETA: 18 - ETA: 18 - ETA: 17 - ETA: 17 - ETA: 17 - ETA: 17 - ETA: 17 - ETA: 17 - ETA: 17 - ETA: 16 - ETA: 16 - ETA: 16 - ETA: 16 - ETA: 16 - ETA: 16 - ETA: 16 - ETA: 16 - ETA: 16 - ETA: 16 - ETA: 16 - ETA: 15 - ETA: 15 - ETA: 15 - ETA: 15 - ETA: 15 - ETA: 15 - ETA: 15 - ETA: 15 - ETA: 15 - ETA: 15 - ETA: 14 - ETA: 14 - ETA: 14 - ETA: 14 - ETA: 14 - ETA: 14 - ETA: 14 - ETA: 14 - ETA: 14 - ETA: 14 - ETA: 13 - ETA: 13 - ETA: 13 - ETA: 13 - ETA: 13 - ETA: 13 - ETA: 13 - ETA: 13 - ETA: 12 - ETA: 12 - ETA: 12 - ETA: 12 - ETA: 12 - ETA: 12 - ETA: 12 - ETA: 12 - ETA: 12 - ETA: 12 - ETA: 12 - ETA: 11 - ETA: 11 - ETA: 11 - ETA: 11 - ETA: 11 - ETA: 11 - ETA: 11 - ETA: 11 - ETA: 11 - ETA: 11 - ETA: 11 - ETA: 11 - ETA: 11 - ETA: 11 - ETA: 11 - ETA: 11 - ETA: 10 - ETA: 10 - ETA: 10 - ETA: 10 - ETA: 10 - ETA: 10 - ETA: 10 - ETA: 10 - ETA: 10 - ETA: 10 - ETA: 10 - ETA: 10 - ETA: 10 - ETA: 10 - ETA: 10 - ETA: 10 - ETA: 10 - ETA: 10 - ETA: 10 - ETA: 9 - ETA:  - ETA:  - ETA:  - ETA:  - ETA:  - ETA:  - ETA:  - ETA:  - ETA:  - ETA:  - ETA:  - ETA:  - ETA:  - ETA:  - ETA:  - ETA:  - ETA:  - ETA:  - ETA:  - ETA:  - ETA:  - ETA:  - ETA:  - ETA:  - ETA:  - ETA:  - ETA:  - ETA:  - ETA:  - ETA:  - ETA:  - ETA:  - ETA:  - ETA:  - ETA:  - ETA:  - ETA:  - ETA:  - ETA:  - ETA:  - ETA:  - ETA:  - ETA:  - ETA:  - ETA:  - ETA:  - ETA:  - ETA:  - ETA:  - ETA:  - ETA:  - ETA:  - ETA:  - ETA:  - ETA:  - ETA:  - ETA:  - ETA:  - ETA:  - ETA:  - ETA:  - ETA:  - ETA:  - ETA:  - ETA:  - ETA:  - ETA:  - ETA:  - ETA:  - ETA:  - ETA:  - ETA:  - ETA:  - ETA:  - ETA:  - ETA:  - ETA:  - ETA:  - ETA:  - ETA:  - ETA:  - ETA:  - ETA:  - ETA:  - ETA:  - ETA:  - ETA:  - ETA:  - ETA:  - ETA:  - ETA:  - ETA:  - ETA:  - ETA:  - ETA:  - ETA:  - ETA:  - ETA:  - ETA:  - ETA:  - ETA:  - ETA:  - ETA:  - ETA:  - ETA:  - ETA:  - ETA:  - ETA:  - ETA:  - ETA:  - ETA:  - ETA:  - ETA:  - ETA:  - ETA:  - ETA:  - ETA:  - ETA:  - ETA:  - ETA:  - ETA:  - ETA:  - ETA:  - ETA:  - ETA:  - ETA:  - ETA:  - ETA:  - ETA:  - ETA:  - ETA:  - ETA:  - ETA:  - ETA:  - ETA:  - ETA:  - ETA:  - ETA:  - ETA:  - ETA:  - ETA:  - ETA:  - ETA:  - ETA:  - ETA:  - ETA:  - ETA:  - ETA:  - ETA:  - ETA:  - ETA:  - ETA:  - ETA:  - ETA:  - ETA:  - ETA:  - ETA:  - ETA:  - ETA:  - ETA:  - ETA:  - ETA:  - ETA:  - ETA:  - ETA:  - ETA:  - ETA:  - ETA:  - ETA:  - ETA:  - ETA:  - ETA:  - ETA:  - ETA:  - ETA:  - ETA:  - ETA:  - ETA:  - ETA:  - ETA:  - ETA:  - ETA:  - ETA:  - ETA:  - ETA:  - ETA:  - ETA:  - ETA:  - ETA:  - ETA:  - ETA:  - ETA:  - ETA:  - ETA:  - ETA:  - ETA:  - ETA:  - ETA:  - ETA:  - ETA:  - ETA:  - ETA:  - ETA:  - ETA:  - ETA:  - ETA:  - ETA:  - 26s 0us/step\n"
     ]
    }
   ],
   "source": [
    "from keras.applications import VGG16\n",
    "from skimage.transform import resize\n",
    "vgg16 = VGG16(include_top=False, weights='imagenet')"
   ]
  },
  {
   "cell_type": "code",
   "execution_count": 176,
   "metadata": {},
   "outputs": [
    {
     "name": "stdout",
     "output_type": "stream",
     "text": [
      "_________________________________________________________________\n",
      "Layer (type)                 Output Shape              Param #   \n",
      "=================================================================\n",
      "input_1 (InputLayer)         (None, None, None, 3)     0         \n",
      "_________________________________________________________________\n",
      "block1_conv1 (Conv2D)        (None, None, None, 64)    1792      \n",
      "_________________________________________________________________\n",
      "block1_conv2 (Conv2D)        (None, None, None, 64)    36928     \n",
      "_________________________________________________________________\n",
      "block1_pool (MaxPooling2D)   (None, None, None, 64)    0         \n",
      "_________________________________________________________________\n",
      "block2_conv1 (Conv2D)        (None, None, None, 128)   73856     \n",
      "_________________________________________________________________\n",
      "block2_conv2 (Conv2D)        (None, None, None, 128)   147584    \n",
      "_________________________________________________________________\n",
      "block2_pool (MaxPooling2D)   (None, None, None, 128)   0         \n",
      "_________________________________________________________________\n",
      "block3_conv1 (Conv2D)        (None, None, None, 256)   295168    \n",
      "_________________________________________________________________\n",
      "block3_conv2 (Conv2D)        (None, None, None, 256)   590080    \n",
      "_________________________________________________________________\n",
      "block3_conv3 (Conv2D)        (None, None, None, 256)   590080    \n",
      "_________________________________________________________________\n",
      "block3_pool (MaxPooling2D)   (None, None, None, 256)   0         \n",
      "_________________________________________________________________\n",
      "block4_conv1 (Conv2D)        (None, None, None, 512)   1180160   \n",
      "_________________________________________________________________\n",
      "block4_conv2 (Conv2D)        (None, None, None, 512)   2359808   \n",
      "_________________________________________________________________\n",
      "block4_conv3 (Conv2D)        (None, None, None, 512)   2359808   \n",
      "_________________________________________________________________\n",
      "block4_pool (MaxPooling2D)   (None, None, None, 512)   0         \n",
      "_________________________________________________________________\n",
      "block5_conv1 (Conv2D)        (None, None, None, 512)   2359808   \n",
      "_________________________________________________________________\n",
      "block5_conv2 (Conv2D)        (None, None, None, 512)   2359808   \n",
      "_________________________________________________________________\n",
      "block5_conv3 (Conv2D)        (None, None, None, 512)   2359808   \n",
      "_________________________________________________________________\n",
      "block5_pool (MaxPooling2D)   (None, None, None, 512)   0         \n",
      "=================================================================\n",
      "Total params: 14,714,688\n",
      "Trainable params: 14,714,688\n",
      "Non-trainable params: 0\n",
      "_________________________________________________________________\n"
     ]
    }
   ],
   "source": [
    "vgg16.summary()"
   ]
  },
  {
   "cell_type": "markdown",
   "metadata": {},
   "source": [
    "### Reshape image_training"
   ]
  },
  {
   "cell_type": "code",
   "execution_count": 31,
   "metadata": {},
   "outputs": [
    {
     "name": "stderr",
     "output_type": "stream",
     "text": [
      "100%|██████████| 7895/7895 [00:28<00:00, 273.38it/s]\n"
     ]
    },
    {
     "data": {
      "text/plain": [
       "(7895, 7, 7, 512)"
      ]
     },
     "execution_count": 31,
     "metadata": {},
     "output_type": "execute_result"
    }
   ],
   "source": [
    "def apply_vgg_grayscale(images):\n",
    "\n",
    "    images_ = []\n",
    "    for img in tqdm(images):\n",
    "\n",
    "        # reshape\n",
    "        img = img.reshape((256, 160))\n",
    "\n",
    "        # rescale\n",
    "        img = resize(img, (224, 224), mode='reflect')\n",
    "\n",
    "        # repeat\n",
    "        img = [img] * 3\n",
    "\n",
    "        images_.append(img)\n",
    "        \n",
    "          # To numpy array\n",
    "    images_ = np.array(images_)\n",
    "\n",
    "    # move channel to last axis\n",
    "    images_ = np.rollaxis(images_, 1, 4)\n",
    "\n",
    "    # Apply vgg\n",
    "    images_vgg = vgg16.predict(images_)\n",
    "    \n",
    "    return images_vgg\n",
    "\n",
    "images_training_vgg = apply_vgg_grayscale(images_training)\n",
    "images_training_vgg.shape"
   ]
  },
  {
   "cell_type": "markdown",
   "metadata": {},
   "source": [
    "### Reshape image_testing"
   ]
  },
  {
   "cell_type": "code",
   "execution_count": 30,
   "metadata": {},
   "outputs": [
    {
     "name": "stderr",
     "output_type": "stream",
     "text": [
      "100%|██████████| 3383/3383 [00:10<00:00, 308.17it/s]\n"
     ]
    },
    {
     "data": {
      "text/plain": [
       "(3383, 7, 7, 512)"
      ]
     },
     "execution_count": 30,
     "metadata": {},
     "output_type": "execute_result"
    }
   ],
   "source": [
    "def apply_vgg_grayscale(images):\n",
    "\n",
    "    images_ = []\n",
    "    for img in tqdm(images):\n",
    "\n",
    "        # reshape\n",
    "        img = img.reshape((256, 160))\n",
    "\n",
    "        # rescale\n",
    "        img = resize(img, (224, 224), mode='reflect')\n",
    "\n",
    "        # repeat\n",
    "        img = [img] * 3\n",
    "\n",
    "        images_.append(img)\n",
    "        \n",
    "          # To numpy array\n",
    "    images_ = np.array(images_)\n",
    "\n",
    "    # move channel to last axis\n",
    "    images_ = np.rollaxis(images_, 1, 4)\n",
    "\n",
    "    # Apply vgg\n",
    "    images_vgg = vgg16.predict(images_)\n",
    "    \n",
    "    return images_vgg\n",
    "\n",
    "images_testing_vgg = apply_vgg_grayscale(images_testing)\n",
    "images_testing_vgg.shape"
   ]
  },
  {
   "cell_type": "code",
   "execution_count": 39,
   "metadata": {},
   "outputs": [
    {
     "data": {
      "text/plain": [
       "array([[[[2.53222615e-01, 0.00000000e+00, 0.00000000e+00, ...,\n",
       "          0.00000000e+00, 5.01114130e-01, 0.00000000e+00],\n",
       "         [0.00000000e+00, 0.00000000e+00, 0.00000000e+00, ...,\n",
       "          0.00000000e+00, 6.19823933e-01, 0.00000000e+00],\n",
       "         [0.00000000e+00, 0.00000000e+00, 0.00000000e+00, ...,\n",
       "          0.00000000e+00, 7.49393821e-01, 0.00000000e+00],\n",
       "         ...,\n",
       "         [0.00000000e+00, 0.00000000e+00, 0.00000000e+00, ...,\n",
       "          0.00000000e+00, 6.43093288e-01, 0.00000000e+00],\n",
       "         [0.00000000e+00, 0.00000000e+00, 0.00000000e+00, ...,\n",
       "          0.00000000e+00, 6.31566167e-01, 0.00000000e+00],\n",
       "         [1.70725346e-01, 0.00000000e+00, 0.00000000e+00, ...,\n",
       "          0.00000000e+00, 7.95173645e-01, 0.00000000e+00]],\n",
       "\n",
       "        [[5.69700360e-01, 0.00000000e+00, 0.00000000e+00, ...,\n",
       "          0.00000000e+00, 6.83407128e-01, 0.00000000e+00],\n",
       "         [0.00000000e+00, 0.00000000e+00, 0.00000000e+00, ...,\n",
       "          0.00000000e+00, 8.08400989e-01, 0.00000000e+00],\n",
       "         [0.00000000e+00, 0.00000000e+00, 0.00000000e+00, ...,\n",
       "          0.00000000e+00, 9.63325560e-01, 0.00000000e+00],\n",
       "         ...,\n",
       "         [0.00000000e+00, 0.00000000e+00, 1.06123090e-02, ...,\n",
       "          0.00000000e+00, 8.85691643e-01, 0.00000000e+00],\n",
       "         [0.00000000e+00, 0.00000000e+00, 0.00000000e+00, ...,\n",
       "          0.00000000e+00, 7.99273372e-01, 0.00000000e+00],\n",
       "         [4.61124688e-01, 0.00000000e+00, 0.00000000e+00, ...,\n",
       "          0.00000000e+00, 9.06312823e-01, 0.00000000e+00]],\n",
       "\n",
       "        [[5.60206056e-01, 0.00000000e+00, 0.00000000e+00, ...,\n",
       "          0.00000000e+00, 1.14036536e+00, 0.00000000e+00],\n",
       "         [0.00000000e+00, 0.00000000e+00, 0.00000000e+00, ...,\n",
       "          0.00000000e+00, 1.06956518e+00, 0.00000000e+00],\n",
       "         [0.00000000e+00, 0.00000000e+00, 5.24025857e-01, ...,\n",
       "          0.00000000e+00, 7.98427343e-01, 0.00000000e+00],\n",
       "         ...,\n",
       "         [0.00000000e+00, 0.00000000e+00, 0.00000000e+00, ...,\n",
       "          0.00000000e+00, 1.04411387e+00, 0.00000000e+00],\n",
       "         [0.00000000e+00, 0.00000000e+00, 0.00000000e+00, ...,\n",
       "          0.00000000e+00, 7.85114288e-01, 0.00000000e+00],\n",
       "         [1.78056434e-01, 0.00000000e+00, 0.00000000e+00, ...,\n",
       "          0.00000000e+00, 7.44632900e-01, 0.00000000e+00]],\n",
       "\n",
       "        ...,\n",
       "\n",
       "        [[6.80911094e-02, 0.00000000e+00, 2.34732270e-01, ...,\n",
       "          3.91901106e-01, 1.02235961e+00, 0.00000000e+00],\n",
       "         [0.00000000e+00, 0.00000000e+00, 1.26200211e+00, ...,\n",
       "          1.06913972e+00, 5.20781040e-01, 0.00000000e+00],\n",
       "         [1.72574744e-01, 0.00000000e+00, 2.37691450e+00, ...,\n",
       "          7.09228396e-01, 7.68831909e-01, 1.07412472e-01],\n",
       "         ...,\n",
       "         [0.00000000e+00, 0.00000000e+00, 1.32923067e+00, ...,\n",
       "          6.42017901e-01, 1.06917405e+00, 0.00000000e+00],\n",
       "         [0.00000000e+00, 0.00000000e+00, 1.81616217e-01, ...,\n",
       "          0.00000000e+00, 9.81664300e-01, 0.00000000e+00],\n",
       "         [0.00000000e+00, 0.00000000e+00, 0.00000000e+00, ...,\n",
       "          0.00000000e+00, 9.94791687e-01, 0.00000000e+00]],\n",
       "\n",
       "        [[4.95404840e-01, 0.00000000e+00, 3.16122830e-01, ...,\n",
       "          6.11734331e-01, 8.84166598e-01, 0.00000000e+00],\n",
       "         [7.05241680e-01, 0.00000000e+00, 5.21083057e-01, ...,\n",
       "          1.19474924e+00, 4.78189766e-01, 0.00000000e+00],\n",
       "         [2.05806851e-01, 0.00000000e+00, 1.72857672e-01, ...,\n",
       "          2.74924636e-01, 7.70692110e-01, 0.00000000e+00],\n",
       "         ...,\n",
       "         [0.00000000e+00, 0.00000000e+00, 1.30705953e+00, ...,\n",
       "          6.47934318e-01, 1.36552572e+00, 0.00000000e+00],\n",
       "         [0.00000000e+00, 0.00000000e+00, 9.12104130e-01, ...,\n",
       "          0.00000000e+00, 1.19980788e+00, 0.00000000e+00],\n",
       "         [0.00000000e+00, 0.00000000e+00, 0.00000000e+00, ...,\n",
       "          0.00000000e+00, 1.25501442e+00, 0.00000000e+00]],\n",
       "\n",
       "        [[0.00000000e+00, 0.00000000e+00, 0.00000000e+00, ...,\n",
       "          0.00000000e+00, 4.80989635e-01, 0.00000000e+00],\n",
       "         [5.87965548e-03, 0.00000000e+00, 1.84765935e-01, ...,\n",
       "          0.00000000e+00, 5.82011521e-01, 0.00000000e+00],\n",
       "         [0.00000000e+00, 0.00000000e+00, 1.07297957e-01, ...,\n",
       "          0.00000000e+00, 5.97811699e-01, 0.00000000e+00],\n",
       "         ...,\n",
       "         [0.00000000e+00, 0.00000000e+00, 5.82491815e-01, ...,\n",
       "          0.00000000e+00, 1.00537026e+00, 0.00000000e+00],\n",
       "         [0.00000000e+00, 0.00000000e+00, 5.41981280e-01, ...,\n",
       "          0.00000000e+00, 9.68870640e-01, 0.00000000e+00],\n",
       "         [0.00000000e+00, 0.00000000e+00, 0.00000000e+00, ...,\n",
       "          0.00000000e+00, 8.75995874e-01, 0.00000000e+00]]],\n",
       "\n",
       "\n",
       "       [[[2.25290805e-01, 0.00000000e+00, 0.00000000e+00, ...,\n",
       "          0.00000000e+00, 7.84813106e-01, 0.00000000e+00],\n",
       "         [2.32544452e-01, 0.00000000e+00, 0.00000000e+00, ...,\n",
       "          0.00000000e+00, 7.00632572e-01, 0.00000000e+00],\n",
       "         [2.02384248e-01, 0.00000000e+00, 0.00000000e+00, ...,\n",
       "          0.00000000e+00, 6.86051905e-01, 0.00000000e+00],\n",
       "         ...,\n",
       "         [7.19321519e-02, 0.00000000e+00, 6.32155240e-01, ...,\n",
       "          0.00000000e+00, 4.81336802e-01, 0.00000000e+00],\n",
       "         [1.36884570e-01, 0.00000000e+00, 0.00000000e+00, ...,\n",
       "          0.00000000e+00, 6.79400682e-01, 0.00000000e+00],\n",
       "         [1.27884328e-01, 0.00000000e+00, 0.00000000e+00, ...,\n",
       "          0.00000000e+00, 7.38144994e-01, 0.00000000e+00]],\n",
       "\n",
       "        [[2.65361428e-01, 0.00000000e+00, 0.00000000e+00, ...,\n",
       "          0.00000000e+00, 5.97580492e-01, 0.00000000e+00],\n",
       "         [6.65021420e-01, 0.00000000e+00, 0.00000000e+00, ...,\n",
       "          0.00000000e+00, 6.33655429e-01, 0.00000000e+00],\n",
       "         [6.56954288e-01, 0.00000000e+00, 3.57531905e-02, ...,\n",
       "          0.00000000e+00, 8.34764600e-01, 0.00000000e+00],\n",
       "         ...,\n",
       "         [0.00000000e+00, 0.00000000e+00, 1.22589087e+00, ...,\n",
       "          3.37280750e-01, 5.95990598e-01, 0.00000000e+00],\n",
       "         [1.76559851e-01, 0.00000000e+00, 0.00000000e+00, ...,\n",
       "          0.00000000e+00, 4.93458986e-01, 0.00000000e+00],\n",
       "         [1.79006115e-01, 0.00000000e+00, 0.00000000e+00, ...,\n",
       "          0.00000000e+00, 6.82324111e-01, 0.00000000e+00]],\n",
       "\n",
       "        [[2.11772442e-01, 0.00000000e+00, 1.21131867e-01, ...,\n",
       "          0.00000000e+00, 7.63149261e-01, 0.00000000e+00],\n",
       "         [4.49118853e-01, 0.00000000e+00, 0.00000000e+00, ...,\n",
       "          0.00000000e+00, 9.14266467e-01, 0.00000000e+00],\n",
       "         [4.27441120e-01, 0.00000000e+00, 1.77227437e-01, ...,\n",
       "          0.00000000e+00, 1.06034279e+00, 0.00000000e+00],\n",
       "         ...,\n",
       "         [0.00000000e+00, 0.00000000e+00, 8.13412905e-01, ...,\n",
       "          3.17584634e-01, 1.09342229e+00, 0.00000000e+00],\n",
       "         [0.00000000e+00, 0.00000000e+00, 1.16605103e-01, ...,\n",
       "          0.00000000e+00, 8.78648877e-01, 0.00000000e+00],\n",
       "         [0.00000000e+00, 0.00000000e+00, 9.45028365e-02, ...,\n",
       "          0.00000000e+00, 6.98270559e-01, 0.00000000e+00]],\n",
       "\n",
       "        ...,\n",
       "\n",
       "        [[6.89467967e-01, 0.00000000e+00, 0.00000000e+00, ...,\n",
       "          0.00000000e+00, 6.61863685e-01, 0.00000000e+00],\n",
       "         [1.28812563e+00, 0.00000000e+00, 0.00000000e+00, ...,\n",
       "          0.00000000e+00, 5.91729641e-01, 0.00000000e+00],\n",
       "         [1.08555293e+00, 0.00000000e+00, 0.00000000e+00, ...,\n",
       "          0.00000000e+00, 6.03161991e-01, 0.00000000e+00],\n",
       "         ...,\n",
       "         [7.30565429e-01, 0.00000000e+00, 1.12692618e+00, ...,\n",
       "          0.00000000e+00, 5.61989844e-01, 0.00000000e+00],\n",
       "         [8.36307943e-01, 0.00000000e+00, 1.35664916e+00, ...,\n",
       "          1.55590206e-01, 5.35868108e-01, 0.00000000e+00],\n",
       "         [4.70893353e-01, 0.00000000e+00, 1.62801623e-01, ...,\n",
       "          0.00000000e+00, 4.95191157e-01, 0.00000000e+00]],\n",
       "\n",
       "        [[3.01839888e-01, 0.00000000e+00, 0.00000000e+00, ...,\n",
       "          0.00000000e+00, 6.93036795e-01, 0.00000000e+00],\n",
       "         [2.20165566e-01, 0.00000000e+00, 6.21109009e-02, ...,\n",
       "          0.00000000e+00, 5.07187068e-01, 0.00000000e+00],\n",
       "         [0.00000000e+00, 0.00000000e+00, 0.00000000e+00, ...,\n",
       "          0.00000000e+00, 5.87758183e-01, 0.00000000e+00],\n",
       "         ...,\n",
       "         [4.06318903e-03, 0.00000000e+00, 1.07102883e+00, ...,\n",
       "          0.00000000e+00, 5.70049882e-01, 0.00000000e+00],\n",
       "         [2.68284976e-02, 0.00000000e+00, 1.23642540e+00, ...,\n",
       "          1.89770818e-01, 7.29360163e-01, 0.00000000e+00],\n",
       "         [3.63656580e-02, 0.00000000e+00, 2.88623899e-01, ...,\n",
       "          0.00000000e+00, 6.75610006e-01, 0.00000000e+00]],\n",
       "\n",
       "        [[8.78491998e-03, 0.00000000e+00, 0.00000000e+00, ...,\n",
       "          0.00000000e+00, 8.29940856e-01, 0.00000000e+00],\n",
       "         [0.00000000e+00, 0.00000000e+00, 0.00000000e+00, ...,\n",
       "          0.00000000e+00, 4.62875366e-01, 0.00000000e+00],\n",
       "         [1.95569545e-02, 0.00000000e+00, 0.00000000e+00, ...,\n",
       "          0.00000000e+00, 5.23313761e-01, 0.00000000e+00],\n",
       "         ...,\n",
       "         [0.00000000e+00, 0.00000000e+00, 0.00000000e+00, ...,\n",
       "          0.00000000e+00, 5.95045209e-01, 0.00000000e+00],\n",
       "         [1.05579011e-01, 0.00000000e+00, 0.00000000e+00, ...,\n",
       "          0.00000000e+00, 4.59138393e-01, 0.00000000e+00],\n",
       "         [2.77280629e-01, 0.00000000e+00, 0.00000000e+00, ...,\n",
       "          0.00000000e+00, 6.10071421e-01, 0.00000000e+00]]],\n",
       "\n",
       "\n",
       "       [[[0.00000000e+00, 0.00000000e+00, 0.00000000e+00, ...,\n",
       "          0.00000000e+00, 7.88756311e-01, 0.00000000e+00],\n",
       "         [0.00000000e+00, 0.00000000e+00, 1.09656692e-01, ...,\n",
       "          0.00000000e+00, 6.63478971e-01, 0.00000000e+00],\n",
       "         [0.00000000e+00, 0.00000000e+00, 5.95185578e-01, ...,\n",
       "          0.00000000e+00, 5.17608285e-01, 0.00000000e+00],\n",
       "         ...,\n",
       "         [0.00000000e+00, 0.00000000e+00, 0.00000000e+00, ...,\n",
       "          0.00000000e+00, 4.29171383e-01, 0.00000000e+00],\n",
       "         [0.00000000e+00, 0.00000000e+00, 0.00000000e+00, ...,\n",
       "          0.00000000e+00, 6.08435273e-01, 0.00000000e+00],\n",
       "         [0.00000000e+00, 0.00000000e+00, 1.70146227e-01, ...,\n",
       "          0.00000000e+00, 6.97319150e-01, 0.00000000e+00]],\n",
       "\n",
       "        [[7.05043375e-01, 0.00000000e+00, 0.00000000e+00, ...,\n",
       "          0.00000000e+00, 9.64929819e-01, 0.00000000e+00],\n",
       "         [4.38236147e-01, 0.00000000e+00, 6.07608557e-01, ...,\n",
       "          1.47285521e-01, 1.05841875e-01, 0.00000000e+00],\n",
       "         [0.00000000e+00, 0.00000000e+00, 8.18147182e-01, ...,\n",
       "          4.93135452e-01, 4.70817894e-01, 0.00000000e+00],\n",
       "         ...,\n",
       "         [0.00000000e+00, 0.00000000e+00, 0.00000000e+00, ...,\n",
       "          0.00000000e+00, 4.25923884e-01, 0.00000000e+00],\n",
       "         [3.17014575e-01, 0.00000000e+00, 0.00000000e+00, ...,\n",
       "          0.00000000e+00, 4.80180383e-01, 0.00000000e+00],\n",
       "         [9.92976204e-02, 0.00000000e+00, 0.00000000e+00, ...,\n",
       "          0.00000000e+00, 6.87657475e-01, 0.00000000e+00]],\n",
       "\n",
       "        [[5.83817244e-01, 0.00000000e+00, 0.00000000e+00, ...,\n",
       "          0.00000000e+00, 7.99928427e-01, 0.00000000e+00],\n",
       "         [5.94246387e-01, 0.00000000e+00, 0.00000000e+00, ...,\n",
       "          3.04743230e-01, 5.36400795e-01, 0.00000000e+00],\n",
       "         [2.35153735e-01, 0.00000000e+00, 0.00000000e+00, ...,\n",
       "          3.97871792e-01, 6.13944471e-01, 0.00000000e+00],\n",
       "         ...,\n",
       "         [0.00000000e+00, 0.00000000e+00, 1.48828924e-01, ...,\n",
       "          0.00000000e+00, 5.40851295e-01, 0.00000000e+00],\n",
       "         [7.38940760e-02, 0.00000000e+00, 0.00000000e+00, ...,\n",
       "          0.00000000e+00, 1.22719002e+00, 0.00000000e+00],\n",
       "         [5.56987822e-02, 0.00000000e+00, 0.00000000e+00, ...,\n",
       "          0.00000000e+00, 9.92592454e-01, 0.00000000e+00]],\n",
       "\n",
       "        ...,\n",
       "\n",
       "        [[2.65153468e-01, 0.00000000e+00, 1.16755366e-02, ...,\n",
       "          0.00000000e+00, 7.44973123e-01, 0.00000000e+00],\n",
       "         [9.44852978e-02, 0.00000000e+00, 1.15517163e+00, ...,\n",
       "          5.34145609e-02, 4.39629138e-01, 0.00000000e+00],\n",
       "         [5.92041612e-01, 0.00000000e+00, 9.18093324e-01, ...,\n",
       "          0.00000000e+00, 4.92425889e-01, 0.00000000e+00],\n",
       "         ...,\n",
       "         [7.39054143e-01, 0.00000000e+00, 0.00000000e+00, ...,\n",
       "          0.00000000e+00, 5.13855875e-01, 0.00000000e+00],\n",
       "         [4.73532379e-01, 0.00000000e+00, 0.00000000e+00, ...,\n",
       "          0.00000000e+00, 8.76158595e-01, 0.00000000e+00],\n",
       "         [4.85435337e-01, 0.00000000e+00, 0.00000000e+00, ...,\n",
       "          0.00000000e+00, 8.57939661e-01, 0.00000000e+00]],\n",
       "\n",
       "        [[2.05662563e-01, 0.00000000e+00, 0.00000000e+00, ...,\n",
       "          0.00000000e+00, 9.58817661e-01, 0.00000000e+00],\n",
       "         [1.98220298e-01, 0.00000000e+00, 9.57169831e-01, ...,\n",
       "          4.27007586e-01, 1.04787862e+00, 0.00000000e+00],\n",
       "         [1.04961529e-01, 0.00000000e+00, 8.26654553e-01, ...,\n",
       "          3.86665255e-01, 7.50944793e-01, 0.00000000e+00],\n",
       "         ...,\n",
       "         [6.28521323e-01, 0.00000000e+00, 0.00000000e+00, ...,\n",
       "          0.00000000e+00, 7.27213264e-01, 0.00000000e+00],\n",
       "         [5.61650991e-01, 0.00000000e+00, 0.00000000e+00, ...,\n",
       "          0.00000000e+00, 7.62652516e-01, 0.00000000e+00],\n",
       "         [3.98205966e-01, 0.00000000e+00, 0.00000000e+00, ...,\n",
       "          0.00000000e+00, 8.13030422e-01, 0.00000000e+00]],\n",
       "\n",
       "        [[0.00000000e+00, 0.00000000e+00, 0.00000000e+00, ...,\n",
       "          0.00000000e+00, 8.18193913e-01, 0.00000000e+00],\n",
       "         [2.20902815e-01, 0.00000000e+00, 0.00000000e+00, ...,\n",
       "          0.00000000e+00, 5.14952779e-01, 0.00000000e+00],\n",
       "         [2.24509463e-01, 0.00000000e+00, 0.00000000e+00, ...,\n",
       "          0.00000000e+00, 5.32523632e-01, 0.00000000e+00],\n",
       "         ...,\n",
       "         [0.00000000e+00, 0.00000000e+00, 0.00000000e+00, ...,\n",
       "          0.00000000e+00, 6.10974014e-01, 0.00000000e+00],\n",
       "         [1.04660094e-02, 0.00000000e+00, 0.00000000e+00, ...,\n",
       "          0.00000000e+00, 4.47778821e-01, 0.00000000e+00],\n",
       "         [4.74875867e-02, 0.00000000e+00, 0.00000000e+00, ...,\n",
       "          0.00000000e+00, 4.45466310e-01, 0.00000000e+00]]],\n",
       "\n",
       "\n",
       "       ...,\n",
       "\n",
       "\n",
       "       [[[0.00000000e+00, 0.00000000e+00, 0.00000000e+00, ...,\n",
       "          0.00000000e+00, 0.00000000e+00, 0.00000000e+00],\n",
       "         [0.00000000e+00, 0.00000000e+00, 0.00000000e+00, ...,\n",
       "          0.00000000e+00, 2.78885603e-01, 0.00000000e+00],\n",
       "         [0.00000000e+00, 0.00000000e+00, 0.00000000e+00, ...,\n",
       "          0.00000000e+00, 4.50802058e-01, 0.00000000e+00],\n",
       "         ...,\n",
       "         [0.00000000e+00, 0.00000000e+00, 0.00000000e+00, ...,\n",
       "          0.00000000e+00, 4.72181857e-01, 0.00000000e+00],\n",
       "         [0.00000000e+00, 0.00000000e+00, 0.00000000e+00, ...,\n",
       "          0.00000000e+00, 0.00000000e+00, 0.00000000e+00],\n",
       "         [1.62798494e-01, 0.00000000e+00, 0.00000000e+00, ...,\n",
       "          0.00000000e+00, 1.57623351e-01, 0.00000000e+00]],\n",
       "\n",
       "        [[0.00000000e+00, 0.00000000e+00, 0.00000000e+00, ...,\n",
       "          0.00000000e+00, 0.00000000e+00, 0.00000000e+00],\n",
       "         [0.00000000e+00, 0.00000000e+00, 0.00000000e+00, ...,\n",
       "          0.00000000e+00, 2.68511832e-01, 0.00000000e+00],\n",
       "         [0.00000000e+00, 0.00000000e+00, 0.00000000e+00, ...,\n",
       "          0.00000000e+00, 6.23329878e-01, 0.00000000e+00],\n",
       "         ...,\n",
       "         [0.00000000e+00, 0.00000000e+00, 2.86413312e-01, ...,\n",
       "          0.00000000e+00, 2.95503259e-01, 0.00000000e+00],\n",
       "         [0.00000000e+00, 0.00000000e+00, 6.69032335e-01, ...,\n",
       "          0.00000000e+00, 0.00000000e+00, 0.00000000e+00],\n",
       "         [0.00000000e+00, 0.00000000e+00, 0.00000000e+00, ...,\n",
       "          0.00000000e+00, 6.73477054e-02, 0.00000000e+00]],\n",
       "\n",
       "        [[0.00000000e+00, 0.00000000e+00, 2.39045024e-02, ...,\n",
       "          0.00000000e+00, 1.93620324e-02, 0.00000000e+00],\n",
       "         [0.00000000e+00, 0.00000000e+00, 1.73065710e+00, ...,\n",
       "          0.00000000e+00, 1.26042008e-01, 9.59996223e-01],\n",
       "         [2.47700632e-01, 0.00000000e+00, 1.85832143e+00, ...,\n",
       "          0.00000000e+00, 3.71548623e-01, 1.28944480e+00],\n",
       "         ...,\n",
       "         [6.23612761e-01, 0.00000000e+00, 2.10873127e+00, ...,\n",
       "          4.79700834e-01, 5.00992239e-01, 7.74576068e-01],\n",
       "         [0.00000000e+00, 0.00000000e+00, 2.65371728e+00, ...,\n",
       "          5.15595615e-01, 4.47260737e-02, 3.76923293e-01],\n",
       "         [0.00000000e+00, 0.00000000e+00, 0.00000000e+00, ...,\n",
       "          0.00000000e+00, 8.86825323e-02, 0.00000000e+00]],\n",
       "\n",
       "        ...,\n",
       "\n",
       "        [[0.00000000e+00, 0.00000000e+00, 8.49287331e-01, ...,\n",
       "          0.00000000e+00, 0.00000000e+00, 0.00000000e+00],\n",
       "         [5.15654683e-01, 0.00000000e+00, 2.13178349e+00, ...,\n",
       "          1.79459527e-01, 1.05279684e-03, 0.00000000e+00],\n",
       "         [9.19905365e-01, 0.00000000e+00, 6.22256756e-01, ...,\n",
       "          0.00000000e+00, 5.88331759e-01, 0.00000000e+00],\n",
       "         ...,\n",
       "         [4.41906244e-01, 0.00000000e+00, 5.39197922e-01, ...,\n",
       "          9.07790840e-01, 4.85390395e-01, 0.00000000e+00],\n",
       "         [0.00000000e+00, 0.00000000e+00, 5.27305782e-01, ...,\n",
       "          9.88396585e-01, 2.77978480e-01, 0.00000000e+00],\n",
       "         [0.00000000e+00, 0.00000000e+00, 0.00000000e+00, ...,\n",
       "          0.00000000e+00, 0.00000000e+00, 0.00000000e+00]],\n",
       "\n",
       "        [[0.00000000e+00, 0.00000000e+00, 7.38969922e-01, ...,\n",
       "          0.00000000e+00, 5.40989637e-03, 0.00000000e+00],\n",
       "         [0.00000000e+00, 0.00000000e+00, 1.74073195e+00, ...,\n",
       "          1.93526939e-01, 6.50909662e-01, 0.00000000e+00],\n",
       "         [2.28556246e-02, 0.00000000e+00, 3.35322380e-01, ...,\n",
       "          0.00000000e+00, 1.00988674e+00, 0.00000000e+00],\n",
       "         ...,\n",
       "         [2.53742903e-01, 0.00000000e+00, 4.97344941e-01, ...,\n",
       "          1.97981775e-01, 5.13002455e-01, 0.00000000e+00],\n",
       "         [0.00000000e+00, 0.00000000e+00, 1.64215297e-01, ...,\n",
       "          4.17749256e-01, 1.54636502e-01, 0.00000000e+00],\n",
       "         [0.00000000e+00, 0.00000000e+00, 0.00000000e+00, ...,\n",
       "          0.00000000e+00, 0.00000000e+00, 0.00000000e+00]],\n",
       "\n",
       "        [[0.00000000e+00, 0.00000000e+00, 0.00000000e+00, ...,\n",
       "          0.00000000e+00, 6.47761226e-02, 0.00000000e+00],\n",
       "         [0.00000000e+00, 0.00000000e+00, 0.00000000e+00, ...,\n",
       "          0.00000000e+00, 5.31079471e-01, 0.00000000e+00],\n",
       "         [0.00000000e+00, 0.00000000e+00, 0.00000000e+00, ...,\n",
       "          0.00000000e+00, 6.58010185e-01, 0.00000000e+00],\n",
       "         ...,\n",
       "         [0.00000000e+00, 0.00000000e+00, 0.00000000e+00, ...,\n",
       "          0.00000000e+00, 2.52249330e-01, 0.00000000e+00],\n",
       "         [0.00000000e+00, 0.00000000e+00, 0.00000000e+00, ...,\n",
       "          0.00000000e+00, 1.53908730e-02, 0.00000000e+00],\n",
       "         [5.70186019e-01, 0.00000000e+00, 0.00000000e+00, ...,\n",
       "          0.00000000e+00, 0.00000000e+00, 0.00000000e+00]]],\n",
       "\n",
       "\n",
       "       [[[0.00000000e+00, 0.00000000e+00, 0.00000000e+00, ...,\n",
       "          0.00000000e+00, 6.69158459e-01, 0.00000000e+00],\n",
       "         [0.00000000e+00, 0.00000000e+00, 5.45117557e-02, ...,\n",
       "          0.00000000e+00, 6.19771838e-01, 0.00000000e+00],\n",
       "         [0.00000000e+00, 0.00000000e+00, 0.00000000e+00, ...,\n",
       "          0.00000000e+00, 5.73410690e-01, 0.00000000e+00],\n",
       "         ...,\n",
       "         [0.00000000e+00, 0.00000000e+00, 0.00000000e+00, ...,\n",
       "          0.00000000e+00, 2.95425206e-01, 0.00000000e+00],\n",
       "         [0.00000000e+00, 0.00000000e+00, 0.00000000e+00, ...,\n",
       "          0.00000000e+00, 5.28962016e-01, 0.00000000e+00],\n",
       "         [0.00000000e+00, 0.00000000e+00, 0.00000000e+00, ...,\n",
       "          0.00000000e+00, 7.08038688e-01, 0.00000000e+00]],\n",
       "\n",
       "        [[0.00000000e+00, 0.00000000e+00, 7.85727143e-01, ...,\n",
       "          0.00000000e+00, 7.98021317e-01, 0.00000000e+00],\n",
       "         [0.00000000e+00, 0.00000000e+00, 2.64359927e+00, ...,\n",
       "          0.00000000e+00, 8.15706074e-01, 0.00000000e+00],\n",
       "         [1.36740357e-01, 0.00000000e+00, 2.09548879e+00, ...,\n",
       "          0.00000000e+00, 4.69488680e-01, 0.00000000e+00],\n",
       "         ...,\n",
       "         [0.00000000e+00, 0.00000000e+00, 1.06095934e+00, ...,\n",
       "          0.00000000e+00, 4.56690431e-01, 0.00000000e+00],\n",
       "         [0.00000000e+00, 0.00000000e+00, 5.93468249e-02, ...,\n",
       "          0.00000000e+00, 4.09848899e-01, 0.00000000e+00],\n",
       "         [0.00000000e+00, 0.00000000e+00, 0.00000000e+00, ...,\n",
       "          0.00000000e+00, 9.18626189e-01, 0.00000000e+00]],\n",
       "\n",
       "        [[0.00000000e+00, 0.00000000e+00, 1.58566833e+00, ...,\n",
       "          0.00000000e+00, 8.91559839e-01, 0.00000000e+00],\n",
       "         [7.97949731e-03, 0.00000000e+00, 2.59998369e+00, ...,\n",
       "          0.00000000e+00, 1.53877258e-01, 0.00000000e+00],\n",
       "         [5.11913717e-01, 0.00000000e+00, 2.17433500e+00, ...,\n",
       "          0.00000000e+00, 2.19296545e-01, 0.00000000e+00],\n",
       "         ...,\n",
       "         [0.00000000e+00, 0.00000000e+00, 1.33756530e+00, ...,\n",
       "          0.00000000e+00, 3.44686568e-01, 0.00000000e+00],\n",
       "         [1.44526526e-01, 0.00000000e+00, 0.00000000e+00, ...,\n",
       "          0.00000000e+00, 1.14303887e-01, 0.00000000e+00],\n",
       "         [4.10683453e-01, 0.00000000e+00, 0.00000000e+00, ...,\n",
       "          0.00000000e+00, 5.78003228e-01, 0.00000000e+00]],\n",
       "\n",
       "        ...,\n",
       "\n",
       "        [[2.19072700e-02, 0.00000000e+00, 0.00000000e+00, ...,\n",
       "          0.00000000e+00, 1.09729707e+00, 0.00000000e+00],\n",
       "         [4.35722768e-02, 0.00000000e+00, 4.05145049e-01, ...,\n",
       "          6.74391091e-02, 1.11129105e+00, 0.00000000e+00],\n",
       "         [7.15775847e-01, 0.00000000e+00, 4.19158578e-01, ...,\n",
       "          0.00000000e+00, 6.64698601e-01, 0.00000000e+00],\n",
       "         ...,\n",
       "         [1.42828465e-01, 0.00000000e+00, 9.74215865e-02, ...,\n",
       "          0.00000000e+00, 5.01448393e-01, 0.00000000e+00],\n",
       "         [0.00000000e+00, 0.00000000e+00, 0.00000000e+00, ...,\n",
       "          0.00000000e+00, 6.67840898e-01, 0.00000000e+00],\n",
       "         [1.14820845e-01, 0.00000000e+00, 0.00000000e+00, ...,\n",
       "          0.00000000e+00, 8.90905380e-01, 0.00000000e+00]],\n",
       "\n",
       "        [[6.85394108e-02, 0.00000000e+00, 0.00000000e+00, ...,\n",
       "          0.00000000e+00, 8.42109084e-01, 0.00000000e+00],\n",
       "         [0.00000000e+00, 0.00000000e+00, 0.00000000e+00, ...,\n",
       "          0.00000000e+00, 3.14513981e-01, 0.00000000e+00],\n",
       "         [0.00000000e+00, 0.00000000e+00, 0.00000000e+00, ...,\n",
       "          0.00000000e+00, 2.51396507e-01, 0.00000000e+00],\n",
       "         ...,\n",
       "         [3.71499479e-01, 0.00000000e+00, 0.00000000e+00, ...,\n",
       "          0.00000000e+00, 5.67533314e-01, 0.00000000e+00],\n",
       "         [0.00000000e+00, 0.00000000e+00, 0.00000000e+00, ...,\n",
       "          8.30250755e-02, 4.90056038e-01, 0.00000000e+00],\n",
       "         [0.00000000e+00, 0.00000000e+00, 0.00000000e+00, ...,\n",
       "          0.00000000e+00, 8.41326296e-01, 0.00000000e+00]],\n",
       "\n",
       "        [[0.00000000e+00, 0.00000000e+00, 0.00000000e+00, ...,\n",
       "          0.00000000e+00, 8.76927674e-01, 0.00000000e+00],\n",
       "         [0.00000000e+00, 0.00000000e+00, 0.00000000e+00, ...,\n",
       "          0.00000000e+00, 6.95595145e-01, 0.00000000e+00],\n",
       "         [0.00000000e+00, 0.00000000e+00, 0.00000000e+00, ...,\n",
       "          0.00000000e+00, 4.81727183e-01, 0.00000000e+00],\n",
       "         ...,\n",
       "         [1.22063175e-01, 0.00000000e+00, 0.00000000e+00, ...,\n",
       "          0.00000000e+00, 3.73579621e-01, 0.00000000e+00],\n",
       "         [0.00000000e+00, 0.00000000e+00, 0.00000000e+00, ...,\n",
       "          0.00000000e+00, 2.14234591e-01, 0.00000000e+00],\n",
       "         [0.00000000e+00, 0.00000000e+00, 0.00000000e+00, ...,\n",
       "          0.00000000e+00, 3.26975018e-01, 0.00000000e+00]]],\n",
       "\n",
       "\n",
       "       [[[9.44289789e-02, 0.00000000e+00, 0.00000000e+00, ...,\n",
       "          0.00000000e+00, 2.59132117e-01, 0.00000000e+00],\n",
       "         [0.00000000e+00, 0.00000000e+00, 0.00000000e+00, ...,\n",
       "          0.00000000e+00, 1.78476036e-01, 0.00000000e+00],\n",
       "         [0.00000000e+00, 0.00000000e+00, 0.00000000e+00, ...,\n",
       "          0.00000000e+00, 2.86678702e-01, 0.00000000e+00],\n",
       "         ...,\n",
       "         [0.00000000e+00, 0.00000000e+00, 0.00000000e+00, ...,\n",
       "          0.00000000e+00, 5.20512402e-01, 0.00000000e+00],\n",
       "         [0.00000000e+00, 0.00000000e+00, 0.00000000e+00, ...,\n",
       "          0.00000000e+00, 3.03012133e-01, 0.00000000e+00],\n",
       "         [1.23144813e-01, 0.00000000e+00, 0.00000000e+00, ...,\n",
       "          0.00000000e+00, 2.21540570e-01, 0.00000000e+00]],\n",
       "\n",
       "        [[1.50360093e-01, 0.00000000e+00, 2.03324944e-01, ...,\n",
       "          0.00000000e+00, 6.15025103e-01, 0.00000000e+00],\n",
       "         [0.00000000e+00, 0.00000000e+00, 3.66818190e-01, ...,\n",
       "          8.17041278e-01, 5.77538133e-01, 0.00000000e+00],\n",
       "         [3.14342439e-01, 7.65057206e-02, 1.82401419e+00, ...,\n",
       "          1.17907786e+00, 6.08303130e-01, 0.00000000e+00],\n",
       "         ...,\n",
       "         [4.17903841e-01, 0.00000000e+00, 7.74170876e-01, ...,\n",
       "          0.00000000e+00, 9.58263636e-01, 0.00000000e+00],\n",
       "         [5.27794480e-01, 0.00000000e+00, 5.39863050e-01, ...,\n",
       "          0.00000000e+00, 4.15065259e-01, 0.00000000e+00],\n",
       "         [6.21138155e-01, 0.00000000e+00, 1.55646920e-01, ...,\n",
       "          0.00000000e+00, 5.73388815e-01, 0.00000000e+00]],\n",
       "\n",
       "        [[1.73763052e-01, 0.00000000e+00, 3.13154459e-01, ...,\n",
       "          0.00000000e+00, 8.39881420e-01, 0.00000000e+00],\n",
       "         [2.85861313e-01, 0.00000000e+00, 5.06166697e-01, ...,\n",
       "          8.21397603e-01, 1.16307640e+00, 0.00000000e+00],\n",
       "         [9.34007645e-01, 0.00000000e+00, 2.14999223e+00, ...,\n",
       "          1.12528908e+00, 8.33100975e-01, 0.00000000e+00],\n",
       "         ...,\n",
       "         [8.70302975e-01, 0.00000000e+00, 1.82987690e+00, ...,\n",
       "          4.80605960e-01, 9.03275311e-01, 0.00000000e+00],\n",
       "         [6.39600337e-01, 0.00000000e+00, 2.09630942e+00, ...,\n",
       "          0.00000000e+00, 3.03455949e-01, 0.00000000e+00],\n",
       "         [6.35140717e-01, 0.00000000e+00, 6.12415791e-01, ...,\n",
       "          0.00000000e+00, 5.16771138e-01, 0.00000000e+00]],\n",
       "\n",
       "        ...,\n",
       "\n",
       "        [[5.40123940e-01, 0.00000000e+00, 0.00000000e+00, ...,\n",
       "          0.00000000e+00, 4.17824239e-01, 0.00000000e+00],\n",
       "         [4.18893754e-01, 0.00000000e+00, 0.00000000e+00, ...,\n",
       "          0.00000000e+00, 1.50335073e+00, 0.00000000e+00],\n",
       "         [3.15795690e-01, 0.00000000e+00, 7.15154052e-01, ...,\n",
       "          0.00000000e+00, 1.54180574e+00, 0.00000000e+00],\n",
       "         ...,\n",
       "         [1.42513201e-01, 0.00000000e+00, 1.13478780e+00, ...,\n",
       "          0.00000000e+00, 2.14037150e-01, 0.00000000e+00],\n",
       "         [0.00000000e+00, 0.00000000e+00, 1.48925257e+00, ...,\n",
       "          7.88440630e-02, 4.83648270e-01, 0.00000000e+00],\n",
       "         [1.11640394e-02, 0.00000000e+00, 3.28719348e-01, ...,\n",
       "          0.00000000e+00, 2.52170533e-01, 0.00000000e+00]],\n",
       "\n",
       "        [[3.83321673e-01, 0.00000000e+00, 0.00000000e+00, ...,\n",
       "          0.00000000e+00, 3.40448916e-01, 0.00000000e+00],\n",
       "         [0.00000000e+00, 0.00000000e+00, 0.00000000e+00, ...,\n",
       "          0.00000000e+00, 8.27265501e-01, 0.00000000e+00],\n",
       "         [0.00000000e+00, 0.00000000e+00, 0.00000000e+00, ...,\n",
       "          0.00000000e+00, 9.87599015e-01, 0.00000000e+00],\n",
       "         ...,\n",
       "         [0.00000000e+00, 0.00000000e+00, 6.06600642e-02, ...,\n",
       "          1.00481689e-01, 7.57778466e-01, 0.00000000e+00],\n",
       "         [0.00000000e+00, 0.00000000e+00, 8.35053623e-02, ...,\n",
       "          3.66066843e-02, 6.18131042e-01, 0.00000000e+00],\n",
       "         [2.43608311e-01, 0.00000000e+00, 8.22533369e-02, ...,\n",
       "          0.00000000e+00, 8.79440904e-01, 0.00000000e+00]],\n",
       "\n",
       "        [[2.93551326e-01, 0.00000000e+00, 0.00000000e+00, ...,\n",
       "          0.00000000e+00, 8.16661716e-02, 0.00000000e+00],\n",
       "         [1.19010925e-01, 0.00000000e+00, 0.00000000e+00, ...,\n",
       "          0.00000000e+00, 3.54406118e-01, 0.00000000e+00],\n",
       "         [0.00000000e+00, 0.00000000e+00, 0.00000000e+00, ...,\n",
       "          0.00000000e+00, 5.24116099e-01, 0.00000000e+00],\n",
       "         ...,\n",
       "         [8.37547332e-02, 0.00000000e+00, 0.00000000e+00, ...,\n",
       "          0.00000000e+00, 5.26414633e-01, 0.00000000e+00],\n",
       "         [2.97497511e-01, 0.00000000e+00, 0.00000000e+00, ...,\n",
       "          0.00000000e+00, 5.34928679e-01, 0.00000000e+00],\n",
       "         [4.17832285e-01, 0.00000000e+00, 1.06325865e-01, ...,\n",
       "          0.00000000e+00, 8.22600842e-01, 0.00000000e+00]]]],\n",
       "      dtype=float32)"
      ]
     },
     "execution_count": 39,
     "metadata": {},
     "output_type": "execute_result"
    }
   ],
   "source": [
    "images_testing_vgg"
   ]
  },
  {
   "cell_type": "markdown",
   "metadata": {
    "collapsed": true
   },
   "source": [
    "### Split"
   ]
  },
  {
   "cell_type": "code",
   "execution_count": 93,
   "metadata": {},
   "outputs": [],
   "source": [
    "#split\n",
    "X_train, X_test, y_train_genres, y_test_genres = train_test_split(images_training_vgg, y_genres, test_size=0.2, random_state=42)"
   ]
  },
  {
   "cell_type": "code",
   "execution_count": 47,
   "metadata": {},
   "outputs": [
    {
     "data": {
      "text/plain": [
       "((6316, 7, 7, 512), (6316, 24), (1579, 7, 7, 512), (1579, 24))"
      ]
     },
     "execution_count": 47,
     "metadata": {},
     "output_type": "execute_result"
    }
   ],
   "source": [
    "X_train.shape, y_train_genres.shape, X_test.shape, y_test_genres.shape"
   ]
  },
  {
   "cell_type": "markdown",
   "metadata": {
    "collapsed": true
   },
   "source": [
    "## Convolutional Neural Network"
   ]
  },
  {
   "cell_type": "markdown",
   "metadata": {},
   "source": [
    "### initialization"
   ]
  },
  {
   "cell_type": "code",
   "execution_count": 781,
   "metadata": {},
   "outputs": [
    {
     "name": "stdout",
     "output_type": "stream",
     "text": [
      "_________________________________________________________________\n",
      "Layer (type)                 Output Shape              Param #   \n",
      "=================================================================\n",
      "conv2d_8 (Conv2D)            (None, 7, 7, 512)         12845568  \n",
      "_________________________________________________________________\n",
      "max_pooling2d_8 (MaxPooling2 (None, 3, 3, 512)         0         \n",
      "_________________________________________________________________\n",
      "flatten_16 (Flatten)         (None, 4608)              0         \n",
      "_________________________________________________________________\n",
      "dropout_80 (Dropout)         (None, 4608)              0         \n",
      "_________________________________________________________________\n",
      "dense_148 (Dense)            (None, 24)                110616    \n",
      "=================================================================\n",
      "Total params: 12,956,184\n",
      "Trainable params: 12,956,184\n",
      "Non-trainable params: 0\n",
      "_________________________________________________________________\n"
     ]
    }
   ],
   "source": [
    "model_1 = Sequential()\n",
    "model_1.add(Conv2D(512,(7,7),padding='same',activation='relu',input_shape=X_train.shape[1:]))\n",
    "model_1.add(MaxPooling2D(pool_size=(2,2)))\n",
    "model_1.add(Flatten(input_shape =X_train.shape[1:]))\n",
    "model_1.add(Dropout(0.5))\n",
    "model_1.add(Dense(24, activation='sigmoid'))\n",
    "model_1.summary()"
   ]
  },
  {
   "cell_type": "markdown",
   "metadata": {},
   "source": [
    "### Compilation"
   ]
  },
  {
   "cell_type": "code",
   "execution_count": 782,
   "metadata": {},
   "outputs": [],
   "source": [
    "model_1.compile(loss='categorical_crossentropy',\n",
    "              optimizer='RMSprop',\n",
    "              metrics=['accuracy'])"
   ]
  },
  {
   "cell_type": "markdown",
   "metadata": {},
   "source": [
    "### Fit"
   ]
  },
  {
   "cell_type": "code",
   "execution_count": 783,
   "metadata": {
    "scrolled": true
   },
   "outputs": [
    {
     "name": "stdout",
     "output_type": "stream",
     "text": [
      "Epoch 1/20\n",
      " - 321s - loss: 11.6222 - acc: 0.1626\n",
      "Epoch 2/20\n",
      " - 323s - loss: 13.5232 - acc: 0.1645\n",
      "Epoch 3/20\n",
      " - 313s - loss: 14.4071 - acc: 0.1645\n",
      "Epoch 4/20\n",
      " - 350s - loss: 13.6675 - acc: 0.1662\n",
      "Epoch 5/20\n",
      " - 343s - loss: 13.6658 - acc: 0.1648\n",
      "Epoch 6/20\n",
      " - 356s - loss: 13.7254 - acc: 0.1786\n",
      "Epoch 7/20\n",
      " - 356s - loss: 13.6169 - acc: 0.1681\n",
      "Epoch 8/20\n",
      " - 357s - loss: 13.7212 - acc: 0.1767\n",
      "Epoch 9/20\n",
      " - 381s - loss: 13.6974 - acc: 0.1686\n",
      "Epoch 10/20\n",
      " - 361s - loss: 13.6816 - acc: 0.1865\n",
      "Epoch 11/20\n",
      " - 348s - loss: 13.6572 - acc: 0.2093\n",
      "Epoch 12/20\n",
      " - 378s - loss: 13.6754 - acc: 0.1875\n",
      "Epoch 13/20\n",
      " - 387s - loss: 13.7339 - acc: 0.2125\n",
      "Epoch 14/20\n",
      " - 408s - loss: 13.7009 - acc: 0.2454\n",
      "Epoch 15/20\n",
      " - 407s - loss: 13.1767 - acc: 0.2568\n",
      "Epoch 16/20\n",
      " - 407s - loss: 7.5797 - acc: 0.2071\n",
      "Epoch 17/20\n",
      " - 402s - loss: 7.3513 - acc: 0.2087\n",
      "Epoch 18/20\n",
      " - 399s - loss: 7.2314 - acc: 0.2161\n",
      "Epoch 19/20\n",
      " - 324s - loss: 7.1561 - acc: 0.2293\n",
      "Epoch 20/20\n",
      " - 276s - loss: 7.1067 - acc: 0.2388\n"
     ]
    },
    {
     "data": {
      "text/plain": [
       "<keras.callbacks.History at 0x1e72b3cf198>"
      ]
     },
     "execution_count": 783,
     "metadata": {},
     "output_type": "execute_result"
    }
   ],
   "source": [
    "model_1.fit(X_train, y_train_genres, epochs=20, verbose=2)"
   ]
  },
  {
   "cell_type": "markdown",
   "metadata": {},
   "source": [
    "### prediction"
   ]
  },
  {
   "cell_type": "code",
   "execution_count": 784,
   "metadata": {},
   "outputs": [],
   "source": [
    "y_pred_genres = model_1.predict_proba(X_test)"
   ]
  },
  {
   "cell_type": "markdown",
   "metadata": {},
   "source": [
    "### Curve ROC"
   ]
  },
  {
   "cell_type": "code",
   "execution_count": 785,
   "metadata": {
    "scrolled": true
   },
   "outputs": [
    {
     "data": {
      "text/plain": [
       "0.6631780608219592"
      ]
     },
     "execution_count": 785,
     "metadata": {},
     "output_type": "execute_result"
    }
   ],
   "source": [
    "roc_auc_score(y_test_genres, y_pred_genres, average='macro')"
   ]
  },
  {
   "cell_type": "markdown",
   "metadata": {},
   "source": [
    "### The ROC curve of the CNN implementation: 0.66317"
   ]
  },
  {
   "cell_type": "markdown",
   "metadata": {},
   "source": [
    "### Apply models to test"
   ]
  },
  {
   "cell_type": "code",
   "execution_count": 149,
   "metadata": {},
   "outputs": [],
   "source": [
    "cols = ['p_Action', 'p_Adventure', 'p_Animation', 'p_Biography', 'p_Comedy', 'p_Crime', 'p_Documentary', 'p_Drama', 'p_Family',\n",
    "        'p_Fantasy', 'p_Film-Noir', 'p_History', 'p_Horror', 'p_Music', 'p_Musical', 'p_Mystery', 'p_News', 'p_Romance',\n",
    "        'p_Sci-Fi', 'p_Short', 'p_Sport', 'p_Thriller', 'p_War', 'p_Western']\n",
    "\n",
    "y_pred_test_genres = model_1.predict_proba(images_testing_vgg)\n",
    "\n",
    "pd.DataFrame(y_pred_test_genres, index=dataTesting.index, columns=cols).to_csv('pred_genres_img_CNN.csv', index_label='ID')"
   ]
  },
  {
   "cell_type": "markdown",
   "metadata": {
    "collapsed": true
   },
   "source": [
    "# Transfer Learning"
   ]
  },
  {
   "cell_type": "markdown",
   "metadata": {},
   "source": [
    "### Below is the process and the model used to transfer learning"
   ]
  },
  {
   "cell_type": "code",
   "execution_count": 205,
   "metadata": {},
   "outputs": [],
   "source": [
    "import keras\n",
    "from keras.models import Sequential\n",
    "from keras.layers import Dense, Dropout, Activation, Flatten #imput de flatten de 32 x 32\n",
    "from keras.layers import Conv1D, Conv2D, MaxPooling2D\n",
    "from livelossplot import PlotLossesKeras"
   ]
  },
  {
   "cell_type": "markdown",
   "metadata": {},
   "source": [
    "### initialization"
   ]
  },
  {
   "cell_type": "code",
   "execution_count": 229,
   "metadata": {},
   "outputs": [
    {
     "name": "stdout",
     "output_type": "stream",
     "text": [
      "_________________________________________________________________\n",
      "Layer (type)                 Output Shape              Param #   \n",
      "=================================================================\n",
      "flatten_15 (Flatten)         (None, 25088)             0         \n",
      "_________________________________________________________________\n",
      "dense_20 (Dense)             (None, 256)               6422784   \n",
      "_________________________________________________________________\n",
      "dropout_14 (Dropout)         (None, 256)               0         \n",
      "_________________________________________________________________\n",
      "dense_21 (Dense)             (None, 24)                6168      \n",
      "=================================================================\n",
      "Total params: 6,428,952\n",
      "Trainable params: 6,428,952\n",
      "Non-trainable params: 0\n",
      "_________________________________________________________________\n"
     ]
    }
   ],
   "source": [
    "model_2 = Sequential()\n",
    "model_2.add(Flatten(input_shape=images_training_vgg.shape[1:]))\n",
    "model_2.add(Dense(256, activation='relu'))\n",
    "model_2.add(Dropout(0.4))\n",
    "model_2.add(Dense(24, activation='sigmoid'))\n",
    "\n",
    "model_2.summary()"
   ]
  },
  {
   "cell_type": "markdown",
   "metadata": {},
   "source": [
    "### Compilation"
   ]
  },
  {
   "cell_type": "code",
   "execution_count": 216,
   "metadata": {},
   "outputs": [],
   "source": [
    "Opt_Nadam = keras.optimizers.Nadam(lr=0.002, beta_1=0.9, beta_2=0.999, epsilon=None, schedule_decay=0.004)"
   ]
  },
  {
   "cell_type": "code",
   "execution_count": 230,
   "metadata": {},
   "outputs": [],
   "source": [
    "model_2.compile(loss='categorical_crossentropy',\n",
    "              optimizer=\"Nadam\",\n",
    "              metrics=['accuracy'])"
   ]
  },
  {
   "cell_type": "markdown",
   "metadata": {},
   "source": [
    "### Fit"
   ]
  },
  {
   "cell_type": "code",
   "execution_count": 231,
   "metadata": {},
   "outputs": [
    {
     "name": "stdout",
     "output_type": "stream",
     "text": [
      "Epoch 1/20\n",
      " - 33s - loss: 8.6509 - acc: 0.1579\n",
      "Epoch 2/20\n",
      " - 32s - loss: 8.4659 - acc: 0.1439\n",
      "Epoch 3/20\n",
      " - 33s - loss: 7.8982 - acc: 0.1887\n",
      "Epoch 4/20\n",
      " - 33s - loss: 7.5103 - acc: 0.2323\n",
      "Epoch 5/20\n",
      " - 32s - loss: 7.4113 - acc: 0.2307\n",
      "Epoch 6/20\n",
      " - 33s - loss: 7.3214 - acc: 0.2329\n",
      "Epoch 7/20\n",
      " - 32s - loss: 7.1974 - acc: 0.2459\n",
      "Epoch 8/20\n",
      " - 31s - loss: 7.1042 - acc: 0.2318\n",
      "Epoch 9/20\n",
      " - 31s - loss: 7.0344 - acc: 0.2334\n",
      "Epoch 10/20\n",
      " - 31s - loss: 6.9508 - acc: 0.2370\n",
      "Epoch 11/20\n",
      " - 32s - loss: 6.8940 - acc: 0.2289\n",
      "Epoch 12/20\n",
      " - 31s - loss: 6.8304 - acc: 0.2130\n",
      "Epoch 13/20\n",
      " - 31s - loss: 6.7438 - acc: 0.2039\n",
      "Epoch 14/20\n",
      " - 32s - loss: 6.6856 - acc: 0.2028\n",
      "Epoch 15/20\n",
      " - 31s - loss: 6.6225 - acc: 0.2038\n",
      "Epoch 16/20\n",
      " - 31s - loss: 6.5691 - acc: 0.2035\n",
      "Epoch 17/20\n",
      " - 31s - loss: 6.5391 - acc: 0.2033\n",
      "Epoch 18/20\n",
      " - 32s - loss: 6.4742 - acc: 0.2028\n",
      "Epoch 19/20\n",
      " - 31s - loss: 6.6287 - acc: 0.2080\n",
      "Epoch 20/20\n",
      " - 32s - loss: 6.4872 - acc: 0.2044\n"
     ]
    },
    {
     "data": {
      "text/plain": [
       "<keras.callbacks.History at 0x1e68a0d0be0>"
      ]
     },
     "execution_count": 231,
     "metadata": {},
     "output_type": "execute_result"
    }
   ],
   "source": [
    "model_2.fit(X_train, y_train_genres, epochs=20, verbose=2)"
   ]
  },
  {
   "cell_type": "markdown",
   "metadata": {},
   "source": [
    "### Prediction"
   ]
  },
  {
   "cell_type": "code",
   "execution_count": 232,
   "metadata": {},
   "outputs": [],
   "source": [
    "y_pred_genres = model_2.predict_proba(X_test)"
   ]
  },
  {
   "cell_type": "markdown",
   "metadata": {},
   "source": [
    "### Curve ROC"
   ]
  },
  {
   "cell_type": "code",
   "execution_count": 233,
   "metadata": {
    "scrolled": true
   },
   "outputs": [
    {
     "data": {
      "text/plain": [
       "0.6619674375176406"
      ]
     },
     "execution_count": 233,
     "metadata": {},
     "output_type": "execute_result"
    }
   ],
   "source": [
    "roc_auc_score(y_test_genres, y_pred_genres, average='macro')"
   ]
  },
  {
   "cell_type": "markdown",
   "metadata": {},
   "source": [
    "### The ROC curve of the CNN implementation: 0.66196\n"
   ]
  },
  {
   "cell_type": "markdown",
   "metadata": {},
   "source": [
    "### Apply models to test"
   ]
  },
  {
   "cell_type": "code",
   "execution_count": 179,
   "metadata": {},
   "outputs": [],
   "source": [
    "cols = ['p_Action', 'p_Adventure', 'p_Animation', 'p_Biography', 'p_Comedy', 'p_Crime', 'p_Documentary', 'p_Drama', 'p_Family',\n",
    "        'p_Fantasy', 'p_Film-Noir', 'p_History', 'p_Horror', 'p_Music', 'p_Musical', 'p_Mystery', 'p_News', 'p_Romance',\n",
    "        'p_Sci-Fi', 'p_Short', 'p_Sport', 'p_Thriller', 'p_War', 'p_Western']\n",
    "\n",
    "y_pred_test_genres = model.predict_proba(images_testing_vgg)\n",
    "\n",
    "pd.DataFrame(y_pred_test_genres, index=dataTesting.index, columns=cols).to_csv('pred_genres_img_vvg.csv', index_label='ID')"
   ]
  },
  {
   "cell_type": "markdown",
   "metadata": {
    "collapsed": true
   },
   "source": [
    "# Models Predictive Text "
   ]
  },
  {
   "cell_type": "markdown",
   "metadata": {},
   "source": [
    "# Read Data"
   ]
  },
  {
   "cell_type": "code",
   "execution_count": 48,
   "metadata": {},
   "outputs": [],
   "source": [
    "path = '../finalProject/'"
   ]
  },
  {
   "cell_type": "code",
   "execution_count": 235,
   "metadata": {},
   "outputs": [],
   "source": [
    "dataTraining = pd.read_csv(os.path.join(path, 'data', 'dataTraining.csv'), encoding='UTF-8', index_col=0)\n",
    "dataTesting = pd.read_csv(os.path.join(path, 'data', 'dataTesting.csv'), encoding='UTF-8', index_col=0)"
   ]
  },
  {
   "cell_type": "code",
   "execution_count": 236,
   "metadata": {},
   "outputs": [
    {
     "data": {
      "text/html": [
       "<div>\n",
       "<style scoped>\n",
       "    .dataframe tbody tr th:only-of-type {\n",
       "        vertical-align: middle;\n",
       "    }\n",
       "\n",
       "    .dataframe tbody tr th {\n",
       "        vertical-align: top;\n",
       "    }\n",
       "\n",
       "    .dataframe thead th {\n",
       "        text-align: right;\n",
       "    }\n",
       "</style>\n",
       "<table border=\"1\" class=\"dataframe\">\n",
       "  <thead>\n",
       "    <tr style=\"text-align: right;\">\n",
       "      <th></th>\n",
       "      <th>year</th>\n",
       "      <th>title</th>\n",
       "      <th>plot</th>\n",
       "    </tr>\n",
       "  </thead>\n",
       "  <tbody>\n",
       "    <tr>\n",
       "      <th>1</th>\n",
       "      <td>1999</td>\n",
       "      <td>Message in a Bottle</td>\n",
       "      <td>who meets by fate ,  shall be sealed by fate ....</td>\n",
       "    </tr>\n",
       "    <tr>\n",
       "      <th>4</th>\n",
       "      <td>1978</td>\n",
       "      <td>Midnight Express</td>\n",
       "      <td>the true story of billy hayes ,  an american c...</td>\n",
       "    </tr>\n",
       "    <tr>\n",
       "      <th>5</th>\n",
       "      <td>1996</td>\n",
       "      <td>Primal Fear</td>\n",
       "      <td>martin vail left the chicago da ' s office to ...</td>\n",
       "    </tr>\n",
       "    <tr>\n",
       "      <th>6</th>\n",
       "      <td>1950</td>\n",
       "      <td>Crisis</td>\n",
       "      <td>husband and wife americans dr .  eugene and mr...</td>\n",
       "    </tr>\n",
       "    <tr>\n",
       "      <th>7</th>\n",
       "      <td>1959</td>\n",
       "      <td>The Tingler</td>\n",
       "      <td>the coroner and scientist dr .  warren chapin ...</td>\n",
       "    </tr>\n",
       "  </tbody>\n",
       "</table>\n",
       "</div>"
      ],
      "text/plain": [
       "   year                title  \\\n",
       "1  1999  Message in a Bottle   \n",
       "4  1978     Midnight Express   \n",
       "5  1996          Primal Fear   \n",
       "6  1950               Crisis   \n",
       "7  1959          The Tingler   \n",
       "\n",
       "                                                plot  \n",
       "1  who meets by fate ,  shall be sealed by fate ....  \n",
       "4  the true story of billy hayes ,  an american c...  \n",
       "5  martin vail left the chicago da ' s office to ...  \n",
       "6  husband and wife americans dr .  eugene and mr...  \n",
       "7  the coroner and scientist dr .  warren chapin ...  "
      ]
     },
     "execution_count": 236,
     "metadata": {},
     "output_type": "execute_result"
    }
   ],
   "source": [
    "dataTesting.head()"
   ]
  },
  {
   "cell_type": "markdown",
   "metadata": {},
   "source": [
    "# Create count vectorizer with ngrams"
   ]
  },
  {
   "cell_type": "code",
   "execution_count": 237,
   "metadata": {},
   "outputs": [
    {
     "data": {
      "text/plain": [
       "pandas.core.frame.DataFrame"
      ]
     },
     "execution_count": 237,
     "metadata": {},
     "output_type": "execute_result"
    }
   ],
   "source": [
    "type(dataTraining)"
   ]
  },
  {
   "cell_type": "code",
   "execution_count": 242,
   "metadata": {},
   "outputs": [
    {
     "data": {
      "text/plain": [
       "(7895, 2000)"
      ]
     },
     "execution_count": 242,
     "metadata": {},
     "output_type": "execute_result"
    }
   ],
   "source": [
    "vect = CountVectorizer(ngram_range=(1, 4), max_features=2000)\n",
    "X_dtm = vect.fit_transform(dataTraining['plot'])\n",
    "X_dtm.shape"
   ]
  },
  {
   "cell_type": "code",
   "execution_count": 128,
   "metadata": {},
   "outputs": [
    {
     "name": "stdout",
     "output_type": "stream",
     "text": [
      "['able', 'able to', 'about', 'about the', 'about to', 'accident', 'across', 'act', 'action', 'actually', 'affair', 'after', 'after the', 'again', 'against', 'against the', 'age', 'agent', 'ago', 'alex', 'alive', 'all', 'all of', 'all the', 'alone', 'along', 'along the', 'along with', 'already', 'also', 'although', 'always', 'america', 'american', 'among', 'an', 'an old', 'and', 'and has', 'and he', 'and her', 'and his', 'and is', 'and she', 'and that', 'and the', 'and their', 'and then', 'and they', 'and when']\n"
     ]
    }
   ],
   "source": [
    "print(vect.get_feature_names()[:50])"
   ]
  },
  {
   "cell_type": "markdown",
   "metadata": {},
   "source": [
    "# Create y"
   ]
  },
  {
   "cell_type": "code",
   "execution_count": 243,
   "metadata": {},
   "outputs": [],
   "source": [
    "dataTraining['genres'] = dataTraining['genres'].map(lambda x: eval(x))\n",
    "\n",
    "le = MultiLabelBinarizer()\n",
    "Y_genres = le.fit_transform(dataTraining['genres'])"
   ]
  },
  {
   "cell_type": "code",
   "execution_count": 244,
   "metadata": {},
   "outputs": [
    {
     "data": {
      "text/plain": [
       "(7895, 24)"
      ]
     },
     "execution_count": 244,
     "metadata": {},
     "output_type": "execute_result"
    }
   ],
   "source": [
    "Y_genres.shape"
   ]
  },
  {
   "cell_type": "markdown",
   "metadata": {},
   "source": [
    "# Split train and test"
   ]
  },
  {
   "cell_type": "code",
   "execution_count": 247,
   "metadata": {},
   "outputs": [],
   "source": [
    "X_train_tx, X_test_tx, y_train_genres_tx, y_test_genres_tx = train_test_split(X_dtm, Y_genres, test_size=0.2, random_state=42)"
   ]
  },
  {
   "cell_type": "code",
   "execution_count": 248,
   "metadata": {},
   "outputs": [
    {
     "data": {
      "text/plain": [
       "((6316, 2000), (6316, 24), (1579, 2000), (1579, 24))"
      ]
     },
     "execution_count": 248,
     "metadata": {},
     "output_type": "execute_result"
    }
   ],
   "source": [
    "X_train_tx.shape,  y_train_genres_tx.shape,X_test_tx.shape, y_test_genres_tx.shape"
   ]
  },
  {
   "cell_type": "markdown",
   "metadata": {},
   "source": [
    "# Train multi-class multi-label model the Random Forest"
   ]
  },
  {
   "cell_type": "code",
   "execution_count": 249,
   "metadata": {},
   "outputs": [],
   "source": [
    "clf = OneVsRestClassifier(RandomForestClassifier(n_jobs=1, n_estimators=200, max_depth=10, random_state=32,bootstrap=True, class_weight=\"balanced\"))"
   ]
  },
  {
   "cell_type": "code",
   "execution_count": 594,
   "metadata": {},
   "outputs": [
    {
     "data": {
      "text/plain": [
       "OneVsRestClassifier(estimator=RandomForestClassifier(bootstrap=True, class_weight='balanced',\n",
       "            criterion='gini', max_depth=10, max_features='auto',\n",
       "            max_leaf_nodes=None, min_impurity_decrease=0.0,\n",
       "            min_impurity_split=None, min_samples_leaf=1,\n",
       "            min_samples_split=2, min_weight_fraction_leaf=0.0,\n",
       "            n_estimators=200, n_jobs=1, oob_score=False, random_state=32,\n",
       "            verbose=0, warm_start=False),\n",
       "          n_jobs=1)"
      ]
     },
     "execution_count": 594,
     "metadata": {},
     "output_type": "execute_result"
    }
   ],
   "source": [
    "clf.fit(X_train_tx, y_train_genres_tx)"
   ]
  },
  {
   "cell_type": "code",
   "execution_count": 595,
   "metadata": {},
   "outputs": [],
   "source": [
    "y_pred_genres_tx = clf.predict_proba(X_test_tx)"
   ]
  },
  {
   "cell_type": "code",
   "execution_count": 596,
   "metadata": {},
   "outputs": [
    {
     "data": {
      "text/plain": [
       "0.8004556292512229"
      ]
     },
     "execution_count": 596,
     "metadata": {},
     "output_type": "execute_result"
    }
   ],
   "source": [
    "roc_auc_score(y_test_genres_tx, y_pred_genres_tx, average='macro')"
   ]
  },
  {
   "cell_type": "markdown",
   "metadata": {},
   "source": [
    "### The ROC curve of the Random Forest implementation: 0.80045\n"
   ]
  },
  {
   "cell_type": "markdown",
   "metadata": {},
   "source": [
    "# Apply models to kaggle test"
   ]
  },
  {
   "cell_type": "code",
   "execution_count": 253,
   "metadata": {},
   "outputs": [],
   "source": [
    "X_test_dtm = vect.transform(dataTesting['plot'])\n",
    "\n",
    "cols = ['p_Action', 'p_Adventure', 'p_Animation', 'p_Biography', 'p_Comedy', 'p_Crime', 'p_Documentary', 'p_Drama', 'p_Family',\n",
    "        'p_Fantasy', 'p_Film-Noir', 'p_History', 'p_Horror', 'p_Music', 'p_Musical', 'p_Mystery', 'p_News', 'p_Romance',\n",
    "        'p_Sci-Fi', 'p_Short', 'p_Sport', 'p_Thriller', 'p_War', 'p_Western']\n",
    "\n",
    "y_pred_test_genres_tx = clf.predict_proba(X_test_dtm)\n",
    "\n",
    "pd.DataFrame(y_pred_test_genres_tx, index=dataTesting.index, columns=cols).to_csv('pred_genres_text_RF.csv', index_label='ID')"
   ]
  },
  {
   "attachments": {},
   "cell_type": "markdown",
   "metadata": {},
   "source": [
    "## Neural Network"
   ]
  },
  {
   "cell_type": "code",
   "execution_count": 536,
   "metadata": {},
   "outputs": [],
   "source": [
    "import keras\n",
    "from sklearn.model_selection import train_test_split, cross_val_score\n",
    "from sklearn.feature_extraction.text import CountVectorizer, TfidfVectorizer\n",
    "from sklearn.ensemble import RandomForestClassifier\n",
    "from nltk.stem.snowball import SnowballStemmer\n",
    "from nltk.stem import WordNetLemmatizer\n",
    "from keras.models import Sequential\n",
    "from keras.utils import np_utils\n",
    "from keras.layers import Dense, Dropout, Activation, BatchNormalization\n",
    "from keras.optimizers import RMSprop\n",
    "from keras.callbacks import History\n",
    "from keras.layers.recurrent import LSTM\n",
    "from keras.layers.embeddings import Embedding\n",
    "from keras.preprocessing import sequence\n",
    "from livelossplot import PlotLossesKeras\n",
    "from keras.layers import Concatenate\n",
    "\n",
    "%matplotlib inline"
   ]
  },
  {
   "cell_type": "markdown",
   "metadata": {},
   "source": [
    "### initialization"
   ]
  },
  {
   "cell_type": "code",
   "execution_count": 750,
   "metadata": {
    "scrolled": false
   },
   "outputs": [
    {
     "name": "stdout",
     "output_type": "stream",
     "text": [
      "_________________________________________________________________\n",
      "Layer (type)                 Output Shape              Param #   \n",
      "=================================================================\n",
      "dense_144 (Dense)            (None, 512)               1024512   \n",
      "_________________________________________________________________\n",
      "batch_normalization_52 (Batc (None, 512)               2048      \n",
      "_________________________________________________________________\n",
      "dropout_77 (Dropout)         (None, 512)               0         \n",
      "_________________________________________________________________\n",
      "dense_145 (Dense)            (None, 24)                12312     \n",
      "=================================================================\n",
      "Total params: 1,038,872\n",
      "Trainable params: 1,037,848\n",
      "Non-trainable params: 1,024\n",
      "_________________________________________________________________\n"
     ]
    }
   ],
   "source": [
    "model_tx = Sequential()\n",
    "model_tx.add(Dense(512, input_shape=X_dtm.shape[1:], activation=\"relu\"))\n",
    "model_tx.add(BatchNormalization())\n",
    "model_tx.add(Dropout(0.69))\n",
    "model_tx.add(Dense(24, activation='sigmoid'))\n",
    "model_tx.summary()"
   ]
  },
  {
   "cell_type": "markdown",
   "metadata": {},
   "source": [
    "## Compilation"
   ]
  },
  {
   "cell_type": "markdown",
   "metadata": {},
   "source": [
    "#### We call the Adam optimizer to adjust the parameters"
   ]
  },
  {
   "cell_type": "code",
   "execution_count": 751,
   "metadata": {},
   "outputs": [],
   "source": [
    "op_adam = keras.optimizers.Adam(lr=0.01, beta_1=0.99, beta_2=0.999, epsilon=None, decay=0.1, amsgrad=False)"
   ]
  },
  {
   "cell_type": "code",
   "execution_count": 752,
   "metadata": {},
   "outputs": [],
   "source": [
    "model_tx.compile(loss='categorical_crossentropy',\n",
    "              optimizer=op_adam,\n",
    "              metrics=['accuracy'])"
   ]
  },
  {
   "cell_type": "markdown",
   "metadata": {},
   "source": [
    "## Fit"
   ]
  },
  {
   "cell_type": "code",
   "execution_count": 753,
   "metadata": {
    "scrolled": false
   },
   "outputs": [
    {
     "data": {
      "image/png": "[encoded data removed]",
      "text/plain": [
       "<matplotlib.figure.Figure at 0x1e7ae469668>"
      ]
     },
     "metadata": {},
     "output_type": "display_data"
    },
    {
     "data": {
      "text/plain": [
       "<keras.callbacks.History at 0x1e7ab8aaf60>"
      ]
     },
     "execution_count": 753,
     "metadata": {},
     "output_type": "execute_result"
    }
   ],
   "source": [
    "#Fit\n",
    "model_tx.fit(X_train_tx, y_train_genres_tx, validation_data=[X_train_tx, y_train_genres_tx], \n",
    "          batch_size=64, epochs=50, verbose=2,\n",
    "          callbacks=[PlotLossesKeras()])"
   ]
  },
  {
   "cell_type": "code",
   "execution_count": 754,
   "metadata": {},
   "outputs": [],
   "source": [
    "Y_pred_tx = model_tx.predict_proba(X_test_tx)"
   ]
  },
  {
   "cell_type": "code",
   "execution_count": 721,
   "metadata": {
    "scrolled": true
   },
   "outputs": [
    {
     "data": {
      "text/plain": [
       "0.8502945377890864"
      ]
     },
     "execution_count": 721,
     "metadata": {},
     "output_type": "execute_result"
    }
   ],
   "source": [
    "roc_auc_score(y_test_genres_tx, Y_pred_tx, average='macro')"
   ]
  },
  {
   "cell_type": "markdown",
   "metadata": {},
   "source": [
    "### The ROC curve of the neural network implementation: 0.850294\n"
   ]
  },
  {
   "cell_type": "markdown",
   "metadata": {},
   "source": [
    "## Fit with 200 epochs"
   ]
  },
  {
   "cell_type": "code",
   "execution_count": 746,
   "metadata": {
    "scrolled": false
   },
   "outputs": [
    {
     "data": {
      "image/png": "[encoded data removed]",
      "text/plain": [
       "<matplotlib.figure.Figure at 0x1e787660f60>"
      ]
     },
     "metadata": {},
     "output_type": "display_data"
    },
    {
     "data": {
      "text/plain": [
       "<keras.callbacks.History at 0x1e783875e48>"
      ]
     },
     "execution_count": 746,
     "metadata": {},
     "output_type": "execute_result"
    }
   ],
   "source": [
    "#Fit\n",
    "model_tx.fit(X_train_tx, y_train_genres_tx, validation_data=[X_train_tx, y_train_genres_tx], \n",
    "          batch_size=64, epochs=200, verbose=2,\n",
    "          callbacks=[PlotLossesKeras()])"
   ]
  },
  {
   "cell_type": "code",
   "execution_count": 747,
   "metadata": {},
   "outputs": [],
   "source": [
    "#ROC\n",
    "y_pred_tx = model_tx.predict_proba(X_test_tx)"
   ]
  },
  {
   "cell_type": "code",
   "execution_count": 748,
   "metadata": {
    "scrolled": true
   },
   "outputs": [
    {
     "data": {
      "text/plain": [
       "0.840395421561472"
      ]
     },
     "execution_count": 748,
     "metadata": {},
     "output_type": "execute_result"
    }
   ],
   "source": [
    "roc_auc_score(y_test_genres_tx, y_pred_tx, average='macro')"
   ]
  },
  {
   "cell_type": "markdown",
   "metadata": {},
   "source": [
    "### With the adjustment of the parameters of the optimizer Adam improves the ROC curve"
   ]
  },
  {
   "cell_type": "code",
   "execution_count": 646,
   "metadata": {},
   "outputs": [
    {
     "data": {
      "text/plain": [
       "((1579, 24), (7895, 2000))"
      ]
     },
     "execution_count": 646,
     "metadata": {},
     "output_type": "execute_result"
    }
   ],
   "source": [
    "y_pred_tx.shape, X_dtm.shape"
   ]
  },
  {
   "cell_type": "markdown",
   "metadata": {},
   "source": [
    "## Kaggle"
   ]
  },
  {
   "cell_type": "markdown",
   "metadata": {},
   "source": [
    "### finally we export the dataframe to load it in Kaggle"
   ]
  },
  {
   "cell_type": "code",
   "execution_count": 722,
   "metadata": {},
   "outputs": [],
   "source": [
    "X_test_dtm = vect.transform(dataTesting['plot'])\n",
    "\n",
    "cols = ['p_Action', 'p_Adventure', 'p_Animation', 'p_Biography', 'p_Comedy', 'p_Crime', 'p_Documentary', 'p_Drama', 'p_Family',\n",
    "        'p_Fantasy', 'p_Film-Noir', 'p_History', 'p_Horror', 'p_Music', 'p_Musical', 'p_Mystery', 'p_News', 'p_Romance',\n",
    "        'p_Sci-Fi', 'p_Short', 'p_Sport', 'p_Thriller', 'p_War', 'p_Western']\n",
    "\n",
    "y_pred_test_genres = model_tx.predict_proba(X_test_dtm)\n",
    "\n",
    "pd.DataFrame(y_pred_test_genres, index=dataTesting.index, columns=cols).to_csv('pred_genres_text_NN_5.csv', index_label='ID')"
   ]
  },
  {
   "cell_type": "markdown",
   "metadata": {},
   "source": [
    "## RNN - Long short-term memory (LSTM)"
   ]
  },
  {
   "cell_type": "markdown",
   "metadata": {},
   "source": [
    "## Vocabulary"
   ]
  },
  {
   "cell_type": "code",
   "execution_count": 758,
   "metadata": {},
   "outputs": [],
   "source": [
    "X=dataTraining['plot'].tolist()"
   ]
  },
  {
   "cell_type": "code",
   "execution_count": 759,
   "metadata": {},
   "outputs": [],
   "source": [
    "# For vocabulary only the intersec characters is used to avoid issues with data collection\n",
    "voc = set(''.join(X))\n",
    "vocabulary = {x: idx + 1 for idx, x in enumerate(set(voc))}"
   ]
  },
  {
   "cell_type": "code",
   "execution_count": 760,
   "metadata": {},
   "outputs": [],
   "source": [
    "# Max len\n",
    "max_url_len = 2000 # El 150 es el corte después de un analisis previo\n",
    "X_ = [x[:max_url_len] for x in X]\n",
    "# Convert characters to int and pad\n",
    "X = [[vocabulary[x1] for x1 in x if x1 in vocabulary.keys()] for x in X_]"
   ]
  },
  {
   "cell_type": "code",
   "execution_count": 761,
   "metadata": {},
   "outputs": [],
   "source": [
    "X_pad = sequence.pad_sequences(X, maxlen=max_url_len)"
   ]
  },
  {
   "cell_type": "code",
   "execution_count": 762,
   "metadata": {},
   "outputs": [],
   "source": [
    "X_train_r, X_test_r, y_train_genres_r, y_test_genres_r = train_test_split(X_pad, y_genres, test_size=0.2, random_state=42)"
   ]
  },
  {
   "cell_type": "code",
   "execution_count": 764,
   "metadata": {},
   "outputs": [
    {
     "data": {
      "text/plain": [
       "((6316, 2000), (6316, 24), (1579, 2000), (1579, 24))"
      ]
     },
     "execution_count": 764,
     "metadata": {},
     "output_type": "execute_result"
    }
   ],
   "source": [
    "X_train_r.shape,  y_train_genres_r.shape, X_test_r.shape, y_test_genres_r.shape"
   ]
  },
  {
   "cell_type": "code",
   "execution_count": 773,
   "metadata": {},
   "outputs": [
    {
     "name": "stdout",
     "output_type": "stream",
     "text": [
      "_________________________________________________________________\n",
      "Layer (type)                 Output Shape              Param #   \n",
      "=================================================================\n",
      "embedding_2 (Embedding)      (None, 2000, 128)         9600      \n",
      "_________________________________________________________________\n",
      "lstm_2 (LSTM)                (None, 32)                20608     \n",
      "_________________________________________________________________\n",
      "dropout_79 (Dropout)         (None, 32)                0         \n",
      "_________________________________________________________________\n",
      "dense_147 (Dense)            (None, 24)                792       \n",
      "=================================================================\n",
      "Total params: 31,000\n",
      "Trainable params: 31,000\n",
      "Non-trainable params: 0\n",
      "_________________________________________________________________\n"
     ]
    }
   ],
   "source": [
    "model = Sequential()\n",
    "model.add(Embedding(len(vocabulary) + 1, 128, input_length=max_url_len))\n",
    "model.add(LSTM(32))\n",
    "model.add(Dropout(0.5))\n",
    "model.add(Dense(24, activation='sigmoid'))\n",
    "\n",
    "model.summary()        "
   ]
  },
  {
   "cell_type": "code",
   "execution_count": 774,
   "metadata": {},
   "outputs": [],
   "source": [
    "#Compilación\n",
    "model.compile(loss='categorical_crossentropy',\n",
    "              optimizer='adam',\n",
    "              metrics=['accuracy'])"
   ]
  },
  {
   "cell_type": "code",
   "execution_count": 775,
   "metadata": {
    "scrolled": false
   },
   "outputs": [
    {
     "data": {
      "image/png": "[encoded data removed]",
      "text/plain": [
       "<matplotlib.figure.Figure at 0x1e72c551b38>"
      ]
     },
     "metadata": {},
     "output_type": "display_data"
    },
    {
     "data": {
      "text/plain": [
       "<keras.callbacks.History at 0x1e78a8ce860>"
      ]
     },
     "execution_count": 775,
     "metadata": {},
     "output_type": "execute_result"
    }
   ],
   "source": [
    "#Fit\n",
    "model.fit(X_train_r, y_train_genres_r, validation_data=[X_train_r, y_train_genres_r], \n",
    "          batch_size=128, epochs=20, verbose=2,\n",
    "          callbacks=[PlotLossesKeras()])"
   ]
  },
  {
   "cell_type": "code",
   "execution_count": 776,
   "metadata": {},
   "outputs": [],
   "source": [
    "#ROC\n",
    "y_pred_r = model.predict_proba(X_test_r)"
   ]
  },
  {
   "cell_type": "code",
   "execution_count": 777,
   "metadata": {},
   "outputs": [
    {
     "data": {
      "text/plain": [
       "0.5298785388655443"
      ]
     },
     "execution_count": 777,
     "metadata": {},
     "output_type": "execute_result"
    }
   ],
   "source": [
    "roc_auc_score(y_test_genres_r, y_pred_r, average='macro')"
   ]
  },
  {
   "cell_type": "markdown",
   "metadata": {},
   "source": [
    "## Concatenate the results of the two neural networks"
   ]
  },
  {
   "cell_type": "code",
   "execution_count": 277,
   "metadata": {},
   "outputs": [],
   "source": [
    "from keras.layers import Dense, concatenate, Input\n",
    "from keras.models import Model"
   ]
  },
  {
   "cell_type": "code",
   "execution_count": 449,
   "metadata": {},
   "outputs": [],
   "source": [
    "mergetOutput = Concatenate()([model_2.output, model_tx.output])"
   ]
  },
  {
   "cell_type": "markdown",
   "metadata": {},
   "source": [
    "### initialization"
   ]
  },
  {
   "cell_type": "code",
   "execution_count": 452,
   "metadata": {},
   "outputs": [],
   "source": [
    "out = Dense(128, activation='relu')(mergetOutput)\n",
    "out = Dropout(0.8)(out)\n",
    "out = Dense(24, activation='sigmoid')(out)\n",
    "#out = Dense(num_classes, activation='softmax')(out)\n",
    "\n",
    "new_model = Model(\n",
    "    [model_2.input, model_tx.input], #model with two input tensors\n",
    "    out                         #and one output tensor\n",
    ") "
   ]
  },
  {
   "cell_type": "code",
   "execution_count": 453,
   "metadata": {
    "scrolled": true
   },
   "outputs": [
    {
     "name": "stdout",
     "output_type": "stream",
     "text": [
      "__________________________________________________________________________________________________\n",
      "Layer (type)                    Output Shape         Param #     Connected to                     \n",
      "==================================================================================================\n",
      "flatten_15_input (InputLayer)   (None, 7, 7, 512)    0                                            \n",
      "__________________________________________________________________________________________________\n",
      "dense_54_input (InputLayer)     (None, 2000)         0                                            \n",
      "__________________________________________________________________________________________________\n",
      "flatten_15 (Flatten)            (None, 25088)        0           flatten_15_input[0][0]           \n",
      "__________________________________________________________________________________________________\n",
      "dense_54 (Dense)                (None, 512)          1024512     dense_54_input[0][0]             \n",
      "__________________________________________________________________________________________________\n",
      "dense_20 (Dense)                (None, 256)          6422784     flatten_15[0][0]                 \n",
      "__________________________________________________________________________________________________\n",
      "batch_normalization_16 (BatchNo (None, 512)          2048        dense_54[0][0]                   \n",
      "__________________________________________________________________________________________________\n",
      "dropout_14 (Dropout)            (None, 256)          0           dense_20[0][0]                   \n",
      "__________________________________________________________________________________________________\n",
      "dropout_30 (Dropout)            (None, 512)          0           batch_normalization_16[0][0]     \n",
      "__________________________________________________________________________________________________\n",
      "dense_21 (Dense)                (None, 24)           6168        dropout_14[0][0]                 \n",
      "__________________________________________________________________________________________________\n",
      "dense_55 (Dense)                (None, 24)           12312       dropout_30[0][0]                 \n",
      "__________________________________________________________________________________________________\n",
      "concatenate_5 (Concatenate)     (None, 48)           0           dense_21[0][0]                   \n",
      "                                                                 dense_55[0][0]                   \n",
      "__________________________________________________________________________________________________\n",
      "dense_61 (Dense)                (None, 128)          6272        concatenate_5[0][0]              \n",
      "__________________________________________________________________________________________________\n",
      "dropout_33 (Dropout)            (None, 128)          0           dense_61[0][0]                   \n",
      "__________________________________________________________________________________________________\n",
      "dense_62 (Dense)                (None, 24)           3096        dropout_33[0][0]                 \n",
      "==================================================================================================\n",
      "Total params: 7,477,192\n",
      "Trainable params: 7,476,168\n",
      "Non-trainable params: 1,024\n",
      "__________________________________________________________________________________________________\n"
     ]
    }
   ],
   "source": [
    "new_model.summary()"
   ]
  },
  {
   "cell_type": "markdown",
   "metadata": {},
   "source": [
    "## compilation"
   ]
  },
  {
   "cell_type": "code",
   "execution_count": 454,
   "metadata": {},
   "outputs": [],
   "source": [
    "new_model.compile(loss='categorical_crossentropy',\n",
    "              optimizer=op_adam,\n",
    "              metrics=['accuracy'])"
   ]
  },
  {
   "cell_type": "code",
   "execution_count": null,
   "metadata": {},
   "outputs": [],
   "source": [
    "new_model.fit()"
   ]
  },
  {
   "cell_type": "code",
   "execution_count": 449,
   "metadata": {},
   "outputs": [],
   "source": [
    "mergetOutput = Concatenate()([model_2.output, model_tx.output])"
   ]
  },
  {
   "cell_type": "code",
   "execution_count": 498,
   "metadata": {},
   "outputs": [],
   "source": [
    "out = Dense(512, activation='relu')(mergetOutput)\n",
    "out = Dropout(0.4)(out)\n",
    "out = Dense(24, activation='sigmoid')(out)\n",
    "#out = Dense(num_classes, activation='softmax')(out)\n",
    "\n",
    "new_model = Model(\n",
    "    [model_2.input, model_tx.input], #model with two input tensors\n",
    "    out                         #and one output tensor\n",
    ") "
   ]
  },
  {
   "cell_type": "code",
   "execution_count": 499,
   "metadata": {},
   "outputs": [
    {
     "name": "stdout",
     "output_type": "stream",
     "text": [
      "__________________________________________________________________________________________________\n",
      "Layer (type)                    Output Shape         Param #     Connected to                     \n",
      "==================================================================================================\n",
      "flatten_15_input (InputLayer)   (None, 7, 7, 512)    0                                            \n",
      "__________________________________________________________________________________________________\n",
      "dense_54_input (InputLayer)     (None, 2000)         0                                            \n",
      "__________________________________________________________________________________________________\n",
      "flatten_15 (Flatten)            (None, 25088)        0           flatten_15_input[0][0]           \n",
      "__________________________________________________________________________________________________\n",
      "dense_54 (Dense)                (None, 512)          1024512     dense_54_input[0][0]             \n",
      "__________________________________________________________________________________________________\n",
      "dense_20 (Dense)                (None, 256)          6422784     flatten_15[0][0]                 \n",
      "__________________________________________________________________________________________________\n",
      "batch_normalization_16 (BatchNo (None, 512)          2048        dense_54[0][0]                   \n",
      "__________________________________________________________________________________________________\n",
      "dropout_14 (Dropout)            (None, 256)          0           dense_20[0][0]                   \n",
      "__________________________________________________________________________________________________\n",
      "dropout_30 (Dropout)            (None, 512)          0           batch_normalization_16[0][0]     \n",
      "__________________________________________________________________________________________________\n",
      "dense_21 (Dense)                (None, 24)           6168        dropout_14[0][0]                 \n",
      "__________________________________________________________________________________________________\n",
      "dense_55 (Dense)                (None, 24)           12312       dropout_30[0][0]                 \n",
      "__________________________________________________________________________________________________\n",
      "concatenate_5 (Concatenate)     (None, 48)           0           dense_21[0][0]                   \n",
      "                                                                 dense_55[0][0]                   \n",
      "__________________________________________________________________________________________________\n",
      "dense_65 (Dense)                (None, 512)          25088       concatenate_5[0][0]              \n",
      "__________________________________________________________________________________________________\n",
      "dropout_35 (Dropout)            (None, 512)          0           dense_65[0][0]                   \n",
      "__________________________________________________________________________________________________\n",
      "dense_66 (Dense)                (None, 24)           12312       dropout_35[0][0]                 \n",
      "==================================================================================================\n",
      "Total params: 7,505,224\n",
      "Trainable params: 7,504,200\n",
      "Non-trainable params: 1,024\n",
      "__________________________________________________________________________________________________\n"
     ]
    }
   ],
   "source": [
    "new_model.summary()"
   ]
  },
  {
   "cell_type": "code",
   "execution_count": 500,
   "metadata": {},
   "outputs": [],
   "source": [
    "new_model.compile(loss='categorical_crossentropy',\n",
    "              optimizer=op_adam,\n",
    "              metrics=['accuracy'])"
   ]
  },
  {
   "cell_type": "code",
   "execution_count": 501,
   "metadata": {},
   "outputs": [
    {
     "data": {
      "image/png": "[encoded data removed]",
      "text/plain": [
       "<matplotlib.figure.Figure at 0x1e767868748>"
      ]
     },
     "metadata": {},
     "output_type": "display_data"
    },
    {
     "data": {
      "text/plain": [
       "<keras.callbacks.History at 0x1e765e28470>"
      ]
     },
     "execution_count": 501,
     "metadata": {},
     "output_type": "execute_result"
    }
   ],
   "source": [
    "new_model.fit([X_train, X_train_tx], y_train_genres, batch_size=124, epochs=500, \n",
    "                     shuffle=True, verbose=2, validation_data=([X_train, X_train_tx], y_train_genres), \n",
    "                    callbacks=[PlotLossesKeras()]) "
   ]
  },
  {
   "cell_type": "code",
   "execution_count": 502,
   "metadata": {},
   "outputs": [],
   "source": [
    "#ROC\n",
    "y_pred_nm = new_model.predict([ X_test, X_test_tx])"
   ]
  },
  {
   "cell_type": "code",
   "execution_count": 503,
   "metadata": {
    "scrolled": false
   },
   "outputs": [
    {
     "data": {
      "text/plain": [
       "0.8230937252980407"
      ]
     },
     "execution_count": 503,
     "metadata": {},
     "output_type": "execute_result"
    }
   ],
   "source": [
    "roc_auc_score(y_test_genres, y_pred_nm, average='macro')"
   ]
  },
  {
   "cell_type": "markdown",
   "metadata": {},
   "source": [
    "# Conclusions"
   ]
  },
  {
   "cell_type": "markdown",
   "metadata": {},
   "source": [
    "\n",
    "We implement different algorithms (machine learning, CNN, transfer learning and RNN) with the objective of classifying a movie genre based on its plot and its poster.\n",
    "\n",
    "The algorithm that best classifies **(Neural Network)** the genre of a movie is that of a neural network with the following architecture:\n",
    "- Relu Activation\n",
    "- Dropout(0.69)\n",
    "- Flattern\n",
    "- Dense(24, sigmoid)\n",
    "\n",
    "- Optimized using Adam\n",
    "- Loss categorical_crossentrop\n",
    "\n",
    "The ROC curve obtained with the implementation of this algorithm is: **0.85029** \n",
    "\n",
    "This is the best result of the different algorithms implemented."
   ]
  }
 ],
 "metadata": {
  "kernelspec": {
   "display_name": "Python 3",
   "language": "python",
   "name": "python3"
  },
  "language_info": {
   "codemirror_mode": {
    "name": "ipython",
    "version": 3
   },
   "file_extension": ".py",
   "mimetype": "text/x-python",
   "name": "python",
   "nbconvert_exporter": "python",
   "pygments_lexer": "ipython3",
   "version": "3.6.4"
  }
 },
 "nbformat": 4,
 "nbformat_minor": 2
}
